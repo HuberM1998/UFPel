{
  "nbformat": 4,
  "nbformat_minor": 0,
  "metadata": {
    "colab": {
      "name": "Cópia de Relatorio3_Mathaus_Huber",
      "provenance": [],
      "include_colab_link": true
    },
    "kernelspec": {
      "name": "python3",
      "display_name": "Python 3"
    }
  },
  "cells": [
    {
      "cell_type": "markdown",
      "metadata": {
        "id": "view-in-github",
        "colab_type": "text"
      },
      "source": [
        "<a href=\"https://colab.research.google.com/github/HuberM1998/UFPel/blob/master/C%C3%B3pia_de_Relatorio3_Mathaus_Huber.ipynb\" target=\"_parent\"><img src=\"https://colab.research.google.com/assets/colab-badge.svg\" alt=\"Open In Colab\"/></a>"
      ]
    },
    {
      "cell_type": "code",
      "metadata": {
        "id": "TsAcxcq33jMJ"
      },
      "source": [
        "import numpy as np\n",
        "\n",
        "def formaNewton(m, x, y, z):\n",
        "  r = 0\n",
        "  dely = np.zeros(m)\n",
        "  for i in range(0, m):\n",
        "    dely[i] = y[i]\n",
        "  \n",
        "  for k in range(1, m):\n",
        "    for i in range(m, k, -1):\n",
        "      dely[i-1] = (dely[i-1] - dely[i-2]) / (x[i-1] - x[i-k-1])\n",
        "  \n",
        "  r = dely[m-1]\n",
        "\n",
        "  for i in range(m-1, 0, -1): \n",
        "    r = r * (z - x[i-1]) + dely[i-1]\n",
        "  \n",
        "  print(\"Estimativa com polinômio de grau \", m-1)\n",
        "  print(\"O valor de z interpolado é \", r)"
      ],
      "execution_count": null,
      "outputs": []
    },
    {
      "cell_type": "code",
      "metadata": {
        "colab": {
          "base_uri": "https://localhost:8080/"
        },
        "id": "JXB8XnLvFw_B",
        "outputId": "69d8cf51-0936-40c0-e6c9-e1f477fa1675"
      },
      "source": [
        "x = [1.6,2,2.5,3.2,4,4.5]\n",
        "y = [2.,8,14,15,8,2]\n",
        "z = 2.8\n",
        "for i in range(2,7):\n",
        "  formaNewton(i, x[0:i], y[0:i], z)\n",
        "  print(\"------------------------------------\")"
      ],
      "execution_count": null,
      "outputs": [
        {
          "output_type": "stream",
          "text": [
            "Estimativa com polinômio de grau  1\n",
            "O valor de z interpolado é  20.0\n",
            "------------------------------------\n",
            "Estimativa com polinômio de grau  2\n",
            "O valor de z interpolado é  16.799999999999997\n",
            "------------------------------------\n",
            "Estimativa com polinômio de grau  3\n",
            "O valor de z interpolado é  15.814285714285715\n",
            "------------------------------------\n",
            "Estimativa com polinômio de grau  4\n",
            "O valor de z interpolado é  15.601428571428572\n",
            "------------------------------------\n",
            "Estimativa com polinômio de grau  5\n",
            "O valor de z interpolado é  15.534914285714287\n",
            "------------------------------------\n"
          ],
          "name": "stdout"
        }
      ]
    },
    {
      "cell_type": "markdown",
      "metadata": {
        "id": "1lRiR8bjbh3j"
      },
      "source": [
        "Foi implementado o algoritmo da forma de Newton através do pseudo-código \"Algoritmo Forma de Newton - Filho\" sendo a forma de Newton uma fórmula alternativa para o cálculo do polinômio interpolador, baseada numa construção sucessiva a partir dos polinomios de graus inferiores. Para estabelecer essa fórmula convém introduzir a noção de diferença dividida. \n",
        "\n",
        "As diferenças divididas são razões incrementais e constituem aproximações discretas de derivadas, desde que se utilizem pontos suficientemente próximos. No caso que nos interessa, iremos utilizar os nós de interpolação que podem estar bastante afastados. Para funções regulares é possível estabelecer uma relação entre o valor de uma diferença dividida e a derivada num certo ponto."
      ]
    },
    {
      "cell_type": "code",
      "metadata": {
        "id": "d6MRrnbcu9G7"
      },
      "source": [
        "def formaLagrange(m, x, y, z):\n",
        "  r = 0\n",
        "  for i in range(0, m):\n",
        "    c = 1\n",
        "    d = 1\n",
        "\n",
        "    for j in range(0, m):\n",
        "      if i != j:\n",
        "        c = c * (z - x[j])\n",
        "        d = d * (x[i] - x[j])\n",
        "    r = r + y[i] * c / d\n",
        "    \n",
        "  print(\"Estimativa com polinômio de grau \", m-1)\n",
        "  print(\"O valor de z interpolado é \", r)"
      ],
      "execution_count": null,
      "outputs": []
    },
    {
      "cell_type": "code",
      "metadata": {
        "colab": {
          "base_uri": "https://localhost:8080/"
        },
        "id": "huYySI9mwWWb",
        "outputId": "aba32370-02c1-412d-9b18-d37f6a60b9bc"
      },
      "source": [
        "x = [1.6,2,2.5,3.2,4,4.5]\n",
        "y = [2.,8,14,15,8,2]\n",
        "z = 2.8\n",
        "for i in range(2,7):\n",
        "  formaLagrange(i, x[0:i], y[0:i], z)\n",
        "  print(\"------------------------------------\")"
      ],
      "execution_count": null,
      "outputs": [
        {
          "output_type": "stream",
          "text": [
            "Estimativa com polinômio de grau  1\n",
            "O valor de z interpolado é  20.0\n",
            "------------------------------------\n",
            "Estimativa com polinômio de grau  2\n",
            "O valor de z interpolado é  16.799999999999997\n",
            "------------------------------------\n",
            "Estimativa com polinômio de grau  3\n",
            "O valor de z interpolado é  15.814285714285711\n",
            "------------------------------------\n",
            "Estimativa com polinômio de grau  4\n",
            "O valor de z interpolado é  15.60142857142857\n",
            "------------------------------------\n",
            "Estimativa com polinômio de grau  5\n",
            "O valor de z interpolado é  15.534914285714285\n",
            "------------------------------------\n"
          ],
          "name": "stdout"
        }
      ]
    },
    {
      "cell_type": "markdown",
      "metadata": {
        "id": "1yxROpnN9pZc"
      },
      "source": [
        "Foi implementado o algoritmo da forma de Lagrange através do pseudo-código \"Algoritmo Forma de Lagrange - Filho\" a definição da forma de Lagrange é Seja um conjunto de n+1 pontos{xi,f(xi)}. Ele encontrar um polinômio interpolador pn(x) que satisfaz a equação, isto é, passe por todos os pontos.\n",
        "\n",
        "As vantagens da forma de lagrange são que a fórmula dela é popular, pois é bem conhecida e é fácil de codificar, o que acontece também com a forma de Newton. Além disso, os dados não são obrigados a ser especificados com x em ordem crescente ou decrescente.\n",
        "\n",
        "As desvantagens dela são que embora o cálculo de pn(x) é simples, o método ainda não é eficiente para grandes valores de n, e a interpolação polinomial de ordem alta é instável.\n",
        "\n"
      ]
    },
    {
      "cell_type": "code",
      "metadata": {
        "id": "elvUQ3V8wnC7"
      },
      "source": [
        "import numpy as np\n",
        "def solve_spline(x, y):\n",
        "\n",
        "  n = len(x) \n",
        "  assert len(y) == n\n",
        "\n",
        "\n",
        "\n",
        "  a = y.copy()\n",
        "  h = np.zeros(n-1)\n",
        "  for i in range(n-1):\n",
        "    h[i] = x[i+1] - x[i] \n",
        "\n",
        "  \n",
        "  A = np.zeros( (n,n) )\n",
        "  B = np.zeros( n )\n",
        "\n",
        "  for i in range(1,n-1):\n",
        "    A[i][i-1] = h[i-1]\n",
        "    A[i][i]   = 2*( h[i-1] + h[i] )\n",
        "    A[i][i+1] = h[i]\n",
        "  \n",
        "    B[i] = 3.0*(a[i+1] - a[i])/float(h[i]) - 3.0*(a[i] - a[i-1])/float(h[i-1])\n",
        "\n",
        "  A[0][0]   = 1.0\n",
        "  A[-1][-1] = 1.0\n",
        "\n",
        "\n",
        "  c = np.linalg.solve( A, B )\n",
        "  b = np.zeros(n-1)\n",
        "  d = np.zeros(n-1)\n",
        "  for i in range(n-1):\n",
        "    b[i] = (a[i+1]-a[i])/float(h[i]) - h[i]*( 2*c[i] + c[i+1] )/3.0\n",
        "    d[i] = (c[i+1]-c[i])/( 3.0 * h[i] )\n",
        "\n",
        "  coef = np.zeros( (n-1,4) )\n",
        "  for i in range(n-1):\n",
        "    coef[i][0] = a[i]\n",
        "    coef[i][1] = b[i]\n",
        "    coef[i][2] = c[i]\n",
        "    coef[i][3] = d[i]\n",
        "\n",
        "\n",
        "  return coef\n",
        "\n",
        "def calc_spline( x, X, coef ):\n",
        "  \n",
        "  y = 0\n",
        "  x = np.array(x)\n",
        "  try:\n",
        "    n = len(X)\n",
        "    \n",
        "    y = np.zeros(n)\n",
        "    for i in range(n):\n",
        "      y[i] = calc_spline( x, X[i], coef )\n",
        "  \n",
        "  except:\n",
        "    \n",
        "    # Encontra a posição de X dentro do vetor x\n",
        "    k = x.searchsorted( X )\n",
        "  \n",
        "    if k>0      : k -= 1  # Use a função S do ponto da esquerda\n",
        "    if k==len(x): k -= 1  # X[i] > x[n]\n",
        "    \n",
        "    H = X - x[k]\n",
        "    ak = coef[k][0]\n",
        "    bk = coef[k][1]\n",
        "    ck = coef[k][2]\n",
        "    dk = coef[k][3]\n",
        "    y = ak + H*( bk + H*( ck + H*dk ) )\n",
        "  \n",
        "  \n",
        "  return y\n"
      ],
      "execution_count": null,
      "outputs": []
    },
    {
      "cell_type": "code",
      "metadata": {
        "colab": {
          "base_uri": "https://localhost:8080/"
        },
        "id": "0Q2H6KuVwvCX",
        "outputId": "bbbbfe4b-3c30-445d-f26d-4930fa2c046b"
      },
      "source": [
        "x = [1.5,2.0,2.2,3.0,3.8]\n",
        "y = [4.9,3.3,3.0,2.0,1.7]\n",
        "\n",
        "coef = solve_spline(x,y)\n",
        "calc_spline(x, 1.75 , coef)"
      ],
      "execution_count": null,
      "outputs": [
        {
          "output_type": "execute_result",
          "data": {
            "text/plain": [
              "3.984560861895161"
            ]
          },
          "metadata": {
            "tags": []
          },
          "execution_count": 2
        }
      ]
    },
    {
      "cell_type": "markdown",
      "metadata": {
        "id": "75TH2uesSOEs"
      },
      "source": [
        "Criei uma função que resolve a spline e retorna os seus coeficientes, e uma que calcula a spline com base no valor a ser interpolado sendo uma entrada para o usuário, e os paramêtros sendo o vetor x inicial, e o vetor de coeficientes encontrados na função anterior.\n",
        "Dentro da função que calcula a spline eu fiz uma tratagem de erro, onde o usuário pode entrar com um valor a ser interpolado ou uma lista de valores.\n",
        "\n",
        "A   origem   do   nome   spline   vem   de   uma   régua   elástica,   usada   em   desenhos   de engenharia,  que  pode  ser  curvada  de  forma  a  passar  por  um  dado  conjunto  de  pontos  (xi, yi),  que  tem  o  nome  de  spline.  Sob  certas  hipóteses  (de  acordo  com  a  teoria  da  elasticidade)  a  curva  definida  pela  régua  pode  ser  descrita  aproximadamente  como  sendo  uma  função  por  partes,  cada  qual  um  polinômio  cúbico,  de  tal  forma  que  ela  e  suas  duas  primeiras  derivadas  são  contínuas  sempre.  A  terceira  derivada,  entretanto,  pode  ter  descontinuidades  nos  pontos  xi.  Tal  função  é  uma  spline  cúbica  interpolante  com  nós  nos  pontos  xi.\n",
        "\n",
        "Quando temos polinômios de graus muito altos, a função tende a oscilar bastante e quebra todo o padrão, então é difícil chegar numa resposta com um erro pequena usando apenas um polinômio interpolador e o resultado pode ser uma catástrofe. Por isso a função spline é muito interessante, pois é uma solução para esse tipo de problema, onde podemos separar a função em vários intervalors e interpolar cada um desses intervalos com polinômios de graus menores que não correm o risco de se descontrolarem.\n",
        "\n",
        "Na nossa função spline a função escolhida f(x) deve estar tabelada em n+1 pontos, o que vamos fazer é ao invés de encontrar um polinômio de grau n que passe por todos os pontos tabelados, nós iremos interpolar vários grupinhos de pontos e garantir condições pra que a nossa aproximação seja contínua e tenha derivadas contínuas até a ordem que quisermos."
      ]
    },
    {
      "cell_type": "code",
      "metadata": {
        "id": "T9xQ6qZeBy4j"
      },
      "source": [
        "def MMQ(n, x, y):\n",
        "  sumx = 0\n",
        "  sumxy = 0\n",
        "  st = 0\n",
        "  sumy = 0\n",
        "  sumx2 = 0\n",
        "  sr = 0\n",
        "\n",
        "  for i in range(0, n):\n",
        "    sumx = sumx + x[i]\n",
        "    sumy = sumy + y[i]\n",
        "    sumxy = sumxy + x[i] * y[i] \n",
        "    sumx2 = sumx2 + x[i] * x[i] \n",
        "  \n",
        "  xm = sumx/n\n",
        "  ym = sumy/n\n",
        "  al = (n*sumxy - sumx*sumy) / (n*sumx2 - sumx*sumx)\n",
        "  a0 = ym - al*xm\n",
        "\n",
        "  for i in range(0, n):\n",
        "    st = st + (y[i] - ym)**2\n",
        "    sr = sr + (y[i] - al*x[i] - a0)**2\n",
        "  \n",
        "  syx = (sr / (n-2))**0.5\n",
        "  r2 = (st - sr) / st\n",
        "\n",
        "  a = al\n",
        "  b = a0\n",
        "  print(\"a =\", a)\n",
        "  print(\"b =\", b)\n",
        "\n"
      ],
      "execution_count": null,
      "outputs": []
    },
    {
      "cell_type": "code",
      "metadata": {
        "colab": {
          "base_uri": "https://localhost:8080/"
        },
        "id": "maOno0s9EyuK",
        "outputId": "3b881171-dd5f-4c24-9bd1-5a618b570f77"
      },
      "source": [
        "MMQ(4,[1.,2,3,4],[3.,5,6,8])"
      ],
      "execution_count": null,
      "outputs": [
        {
          "output_type": "stream",
          "text": [
            "a = 1.6\n",
            "b = 1.5\n"
          ],
          "name": "stdout"
        }
      ]
    },
    {
      "cell_type": "markdown",
      "metadata": {
        "id": "kjnzp69qB2dY"
      },
      "source": [
        " O Método dos Mínimos Quadrados (MMQ) procura encontrar o melhor ajuste para um conjunto de dados tentando minimizar a soma dos quadrados das diferenças entre o valor estimado e os dados observados. Foi utilizado o pseudo-código do \"Algoritmo Aproximação Linear - Chapra\", onde foi feito alguns ajustes para resolver alguns bugs que estavam acontecendo"
      ]
    },
    {
      "cell_type": "markdown",
      "metadata": {
        "id": "PN46C53ByVjm"
      },
      "source": [
        "# Questão 1"
      ]
    },
    {
      "cell_type": "markdown",
      "metadata": {
        "id": "9QC3ebiEyYxH"
      },
      "source": [
        "A tabela seguinte apresenta a velocidade de queda de um paraquedista em função do tempo.\n",
        "\n",
        "Estime  o  valor  da  velocidade  no  instante  de  tempo  10 segundos,  utilizando  um polinômio interpolador de grau 3. Justifique sua resposta"
      ]
    },
    {
      "cell_type": "code",
      "metadata": {
        "id": "UK7MW6j_yoTr"
      },
      "source": [
        "import numpy as np\n",
        "\n",
        "def formaNewton(m, x, y, z):\n",
        "  r = 0\n",
        "  dely = np.zeros(m)\n",
        "  for i in range(0, m):\n",
        "    dely[i] = y[i]\n",
        "  \n",
        "  for k in range(1, m):\n",
        "    for i in range(m, k, -1):\n",
        "      dely[i-1] = (dely[i-1] - dely[i-2]) / (x[i-1] - x[i-k-1])\n",
        "  3\n",
        "  r = dely[m-1]\n",
        "\n",
        "  for i in range(m-1, 0, -1): \n",
        "    r = r * (z - x[i-1]) + dely[i-1]\n",
        "\n",
        "  print(\"Estimativa com polinômio de grau \", m-1)\n",
        "  print(\"A velocidade no instante de tempo de %.1f segundos é %f cm/s \" %(z,r))\n"
      ],
      "execution_count": null,
      "outputs": []
    },
    {
      "cell_type": "code",
      "metadata": {
        "colab": {
          "base_uri": "https://localhost:8080/"
        },
        "id": "uD_tPqxWy37y",
        "outputId": "14ccab46-7f02-47e4-c47c-582d649abb08"
      },
      "source": [
        "x = [3,5.0,7,20]\n",
        "y = [2310.0,3090.0,3940.0,8000.0]\n",
        "z = 10\n",
        "for i in range(2,5):\n",
        "  formaNewton(i, x[0:i], y[0:i], z)\n",
        "  print(\"------------------------------------\")"
      ],
      "execution_count": null,
      "outputs": [
        {
          "output_type": "stream",
          "text": [
            "Estimativa com polinômio de grau  1\n",
            "A velocidade no instante de tempo de 10.0 segundos é 5040.000000 cm/s \n",
            "------------------------------------\n",
            "Estimativa com polinômio de grau  2\n",
            "A velocidade no instante de tempo de 10.0 segundos é 5346.250000 cm/s \n",
            "------------------------------------\n",
            "Estimativa com polinômio de grau  3\n",
            "A velocidade no instante de tempo de 10.0 segundos é 5245.803167 cm/s \n",
            "------------------------------------\n"
          ],
          "name": "stdout"
        }
      ]
    },
    {
      "cell_type": "code",
      "metadata": {
        "id": "ZO2sLMiCzvPy"
      },
      "source": [
        "def formaLagrange(m, x, y, z):\n",
        "  r = 0\n",
        "  for i in range(0, m):\n",
        "    c = 1\n",
        "    d = 1\n",
        "\n",
        "    for j in range(0, m):\n",
        "      if i != j:\n",
        "        c = c * (z - x[j])\n",
        "        d = d * (x[i] - x[j])\n",
        "    r = r + y[i] * c / d\n",
        "    \n",
        "  print(\"Estimativa com polinômio de grau \", m-1)\n",
        "  print(\"A velocidade no instante de tempo de %.1f segundos é %f cm/s \" %(z,r))"
      ],
      "execution_count": null,
      "outputs": []
    },
    {
      "cell_type": "code",
      "metadata": {
        "colab": {
          "base_uri": "https://localhost:8080/"
        },
        "id": "FY3ivyWtzy7b",
        "outputId": "471481d4-2612-4701-e821-886dc05b2ef9"
      },
      "source": [
        "x = [3,5.0,7,20]\n",
        "y = [2310.0,3090.0,3940.0,8000.0]\n",
        "z = 10\n",
        "for i in range(2,5):\n",
        "  formaLagrange(i, x[0:i], y[0:i], z)\n",
        "  print(\"------------------------------------\")"
      ],
      "execution_count": null,
      "outputs": [
        {
          "output_type": "stream",
          "text": [
            "Estimativa com polinômio de grau  1\n",
            "A velocidade no instante de tempo de 10.0 segundos é 5040.000000 cm/s \n",
            "------------------------------------\n",
            "Estimativa com polinômio de grau  2\n",
            "A velocidade no instante de tempo de 10.0 segundos é 5346.250000 cm/s \n",
            "------------------------------------\n",
            "Estimativa com polinômio de grau  3\n",
            "A velocidade no instante de tempo de 10.0 segundos é 5245.803167 cm/s \n",
            "------------------------------------\n"
          ],
          "name": "stdout"
        }
      ]
    },
    {
      "cell_type": "markdown",
      "metadata": {
        "id": "S2zthkA1f0Jw"
      },
      "source": [
        "Eu utilizei os dois algoritmos para a resolução do mesmo exercício, de forma a mostrar que chegamos no mesmo resultado por diferentes maneiras de abordagem, no quesito de esforço computacional, percebe-se que o método de Lagrange possui operações mais requisitadas na  interpolação.  Isso  influencia  diretamente  o  número  total  de  operações  feitas para  determinar  a  mesma  interpolação,  tornando  o  método  de  Lagrange  mais “pesado” em termos  de  esforço  computacional. Dessa  forma,  entre  as  duas  formas  de  se  determinar  o polinômio interpolador abordadas, à interpolação de Newton requer um esforço computacional menor e, portanto, é mais eficaz.\n",
        "\n",
        "Na questão 1 em específico, os valores escolhidos para se fazer a interpolação, neste caso, são os 4 últimos, pois para termos uma estimativa com o polinômio de grau m necessitamos de m+1 valores.\n",
        "\n",
        "Na hora de printar o resultado, eu achei interessante usar um laço for para mostrar como ficariam as estimativas com polinômios de grau n, no caso do exercício, o grau requerido para o polinômio interpolador é 3, sendo a velocidade no instante de tempo de 10.0 segundos = 5245.803167 cm/s. Eu poderia por um condicional, onde poderia printar somente quando o contador \"i\" fosse igual a 4, ou seja, o grau 3+1, que é onde se encontra a estimativa para o polinômio de grau 3, ou simplesmente tirar o laço, como estamos utilizando 4 pontos com a intenção de encontrar o polinômio interpolador de grau 3, o algoritmo já nos mostraria a estimativa sem a necessidade de mostrar o resultado com os graus 1 e 2, porém, eu achei mais interessante assim... :)"
      ]
    },
    {
      "cell_type": "markdown",
      "metadata": {
        "id": "vcyft2lG0CS7"
      },
      "source": [
        "# Questão 2"
      ]
    },
    {
      "cell_type": "markdown",
      "metadata": {
        "id": "bc-sluzf0F6K"
      },
      "source": [
        "A tabela seguinte apresenta a produção de milho em 6 propriedades agrícolas. A variável x é a área medida em hectare e f(x) é a produção medida em sacas.\n",
        "\n",
        "Estime  o  valor  da  produção  em  12,  22  e  31  hectares,  utilizando  um  polinômio interpolador de grau 4. Justifique sua resposta"
      ]
    },
    {
      "cell_type": "code",
      "metadata": {
        "id": "kq3TsD-40a9s"
      },
      "source": [
        "import numpy as np\n",
        "\n",
        "def formaNewton(m, x, y, z):\n",
        "  r = 0\n",
        "  dely = np.zeros(m)\n",
        "  for i in range(0, m):\n",
        "    dely[i] = y[i]\n",
        "  \n",
        "  for k in range(1, m):\n",
        "    for i in range(m, k, -1):\n",
        "      dely[i-1] = (dely[i-1] - dely[i-2]) / (x[i-1] - x[i-k-1])\n",
        "  \n",
        "  r = dely[m-1]\n",
        "\n",
        "  for i in range(m-1, 0, -1): \n",
        "    r = r * (z - x[i-1]) + dely[i-1]\n",
        "\n",
        "  print(\"Estimativa com polinômio de grau \", m-1)\n",
        "  print(\"O valor estimado da produção em %.1f hectares é %f sacas\" %(z,r))"
      ],
      "execution_count": null,
      "outputs": []
    },
    {
      "cell_type": "code",
      "metadata": {
        "colab": {
          "base_uri": "https://localhost:8080/"
        },
        "id": "z5VlLOGp0wCN",
        "outputId": "a2a01b9e-5c06-4668-af6c-4628d919c37f"
      },
      "source": [
        "x = [15.0,20,25,30,35]\n",
        "y = [172.0,253,352,473,619]\n",
        "\n",
        "for i in range(2,6):\n",
        "  formaNewton(i, x[0:i], y[0:i], 22)\n",
        "  print(\"------------------------------------\")\n",
        "\n",
        "print(\"\\n\")\n",
        "\n",
        "x = [20,25,30,35,40]\n",
        "y = [253,352,473,619,793]\n",
        "for i in range(2,6):\n",
        "  formaNewton(i, x[0:i], y[0:i], 31)\n",
        "  print(\"------------------------------------\")\n"
      ],
      "execution_count": null,
      "outputs": [
        {
          "output_type": "stream",
          "text": [
            "Estimativa com polinômio de grau  1\n",
            "O valor estimado da produção em 22.0 hectares é 285.400000 sacas\n",
            "------------------------------------\n",
            "Estimativa com polinômio de grau  2\n",
            "O valor estimado da produção em 22.0 hectares é 290.440000 sacas\n",
            "------------------------------------\n",
            "Estimativa com polinômio de grau  3\n",
            "O valor estimado da produção em 22.0 hectares é 290.216000 sacas\n",
            "------------------------------------\n",
            "Estimativa com polinômio de grau  4\n",
            "O valor estimado da produção em 22.0 hectares é 290.193600 sacas\n",
            "------------------------------------\n",
            "\n",
            "\n",
            "Estimativa com polinômio de grau  1\n",
            "O valor estimado da produção em 31.0 hectares é 470.800000 sacas\n",
            "------------------------------------\n",
            "Estimativa com polinômio de grau  2\n",
            "O valor estimado da produção em 31.0 hectares é 499.840000 sacas\n",
            "------------------------------------\n",
            "Estimativa com polinômio de grau  3\n",
            "O valor estimado da produção em 31.0 hectares é 500.104000 sacas\n",
            "------------------------------------\n",
            "Estimativa com polinômio de grau  4\n",
            "O valor estimado da produção em 31.0 hectares é 500.104000 sacas\n",
            "------------------------------------\n"
          ],
          "name": "stdout"
        }
      ]
    },
    {
      "cell_type": "code",
      "metadata": {
        "id": "mLn5CerU1aQ6"
      },
      "source": [
        "def formaLagrange(m, x, y, z):\n",
        "  r = 0\n",
        "  for i in range(0, m):\n",
        "    c = 1\n",
        "    d = 1\n",
        "\n",
        "    for j in range(0, m):\n",
        "      if i != j:\n",
        "        c = c * (z - x[j])\n",
        "        d = d * (x[i] - x[j])\n",
        "    r = r + y[i] * c / d\n",
        "    \n",
        "  print(\"Estimativa com polinômio de grau \", m-1)\n",
        "  print(\"O valor estimado da produção em %.1f hectares é %f sacas\" %(z,r))"
      ],
      "execution_count": null,
      "outputs": []
    },
    {
      "cell_type": "code",
      "metadata": {
        "colab": {
          "base_uri": "https://localhost:8080/"
        },
        "id": "jBPvVoo71g0u",
        "outputId": "a21be59e-e896-4479-a451-5a342117df60"
      },
      "source": [
        "x = [15.0,20,25,30,35]\n",
        "y = [172.0,253,352,473,619]\n",
        "\n",
        "for i in range(2,6):\n",
        "  formaLagrange(i, x[0:i], y[0:i], 22)\n",
        "  print(\"------------------------------------\")\n",
        "\n",
        "print(\"\\n\")\n",
        "\n",
        "x = [20,25,30,35,40]\n",
        "y = [253,352,473,619,793]\n",
        "for i in range(2,6):\n",
        "  formaLagrange(i, x[0:i], y[0:i], 31)\n",
        "  print(\"------------------------------------\")"
      ],
      "execution_count": null,
      "outputs": [
        {
          "output_type": "stream",
          "text": [
            "Estimativa com polinômio de grau  1\n",
            "O valor estimado da produção em 22.0 hectares é 285.400000 sacas\n",
            "------------------------------------\n",
            "Estimativa com polinômio de grau  2\n",
            "O valor estimado da produção em 22.0 hectares é 290.440000 sacas\n",
            "------------------------------------\n",
            "Estimativa com polinômio de grau  3\n",
            "O valor estimado da produção em 22.0 hectares é 290.216000 sacas\n",
            "------------------------------------\n",
            "Estimativa com polinômio de grau  4\n",
            "O valor estimado da produção em 22.0 hectares é 290.193600 sacas\n",
            "------------------------------------\n",
            "\n",
            "\n",
            "Estimativa com polinômio de grau  1\n",
            "O valor estimado da produção em 31.0 hectares é 470.800000 sacas\n",
            "------------------------------------\n",
            "Estimativa com polinômio de grau  2\n",
            "O valor estimado da produção em 31.0 hectares é 499.840000 sacas\n",
            "------------------------------------\n",
            "Estimativa com polinômio de grau  3\n",
            "O valor estimado da produção em 31.0 hectares é 500.104000 sacas\n",
            "------------------------------------\n",
            "Estimativa com polinômio de grau  4\n",
            "O valor estimado da produção em 31.0 hectares é 500.104000 sacas\n",
            "------------------------------------\n"
          ],
          "name": "stdout"
        }
      ]
    },
    {
      "cell_type": "markdown",
      "metadata": {
        "id": "rKMsK_2XoMBy"
      },
      "source": [
        "Na questão 2 também foram utilizados ambos os métodos, de Lagrange e Newton, onde não foi estimado o primeiro valor em produção para 12 hectares, sendo que esse valor se torna uma extrapolação dentre o número de pontos, logo que ele notavelmente não está entre os pontos a serem interpolados (15, 20, 25, 30, 35, 40).\n",
        "\n",
        "No segundo valor, para 22 hectares, com uma estimativa com polinômio de grau 4, foram escolhidos os 5 primeiros pontos, ressaltando novamente, que para o grau m precisaríamos de m+1 pontos, por esse motivo a escolha dos pontos mais próximos ao valor requerido, nesse caso os 5 primeiros.\n",
        "\n",
        "No terceiro valor, para 31 hectares, também com uma estimativa com polinômio de grau 4, foram escolhidos os 5 últimos pontos, logo que, esses seriam os mais próximos nesse caso."
      ]
    },
    {
      "cell_type": "markdown",
      "metadata": {
        "id": "LZv8R5N3qhgV"
      },
      "source": [
        "# Questão 3"
      ]
    },
    {
      "cell_type": "markdown",
      "metadata": {
        "id": "E-5P4gRjql21"
      },
      "source": [
        "A resistência de um certo fio de metal, f(x), varia com o diâmetro desse fio, x. Foram medidas as resistência de 5 fios de diversos diâmetros:\n",
        "\n",
        "Estime  o  valor  da  resistência  de  um  fio  de  1,75  de diâmetro,  utilizando spline  cúbica natural. Justifique sua resposta."
      ]
    },
    {
      "cell_type": "code",
      "metadata": {
        "id": "LtMruSVoqxdR"
      },
      "source": [
        "import numpy as np\n",
        "def solve_spline(x, y):\n",
        "\n",
        "  n = len(x) \n",
        "  assert len(y) == n\n",
        "\n",
        "\n",
        "\n",
        "  a = y.copy()\n",
        "  h = np.zeros(n-1)\n",
        "  for i in range(n-1):\n",
        "    h[i] = x[i+1] - x[i] \n",
        "\n",
        "  \n",
        "  A = np.zeros( (n,n) )\n",
        "  B = np.zeros( n )\n",
        "\n",
        "  for i in range(1,n-1):\n",
        "    A[i][i-1] = h[i-1]\n",
        "    A[i][i]   = 2*( h[i-1] + h[i] )\n",
        "    A[i][i+1] = h[i]\n",
        "  \n",
        "    B[i] = 3.0*(a[i+1] - a[i])/float(h[i]) - 3.0*(a[i] - a[i-1])/float(h[i-1])\n",
        "\n",
        "  A[0][0]   = 1.0\n",
        "  A[-1][-1] = 1.0\n",
        "\n",
        "\n",
        "  c = np.linalg.solve( A, B )\n",
        "  b = np.zeros(n-1)\n",
        "  d = np.zeros(n-1)\n",
        "  for i in range(n-1):\n",
        "    b[i] = (a[i+1]-a[i])/float(h[i]) - h[i]*( 2*c[i] + c[i+1] )/3.0\n",
        "    d[i] = (c[i+1]-c[i])/( 3.0 * h[i] )\n",
        "\n",
        "  coef = np.zeros( (n-1,4) )\n",
        "  for i in range(n-1):\n",
        "    coef[i][0] = a[i]\n",
        "    coef[i][1] = b[i]\n",
        "    coef[i][2] = c[i]\n",
        "    coef[i][3] = d[i]\n",
        "\n",
        "\n",
        "  return coef\n",
        "\n",
        "def calc_spline( x, X, coef ):\n",
        "  \n",
        "  y = 0\n",
        "  x = np.array(x)\n",
        "  try:\n",
        "    n = len(X)\n",
        "    \n",
        "    y = np.zeros(n)\n",
        "    for i in range(n):\n",
        "      y[i] = calc_spline( x, X[i], coef )\n",
        "  \n",
        "  except:\n",
        "    \n",
        "    # Encontra a posição de X dentro do vetor x\n",
        "    k = x.searchsorted( X )\n",
        "  \n",
        "    if k>0      : k -= 1  # Use a função S do ponto da esquerda\n",
        "    if k==len(x): k -= 1  # X[i] > x[n]\n",
        "    \n",
        "    H = X - x[k]\n",
        "    ak = coef[k][0]\n",
        "    bk = coef[k][1]\n",
        "    ck = coef[k][2]\n",
        "    dk = coef[k][3]\n",
        "    y = ak + H*( bk + H*( ck + H*dk ) )\n",
        "  \n",
        "  \n",
        "  print(\"A resistência do fio de %.2f de diâmetro é %f\" %(X,y))"
      ],
      "execution_count": null,
      "outputs": []
    },
    {
      "cell_type": "code",
      "metadata": {
        "colab": {
          "base_uri": "https://localhost:8080/"
        },
        "id": "ZWiJ786jrqSP",
        "outputId": "c9627d04-0af9-455c-bc8a-fd6160c9f14e"
      },
      "source": [
        "x = [1.5,2.0,2.2,3.0,3.8]\n",
        "y = [4.9,3.3,3.0,2.0,1.7]\n",
        "\n",
        "coef = solve_spline(x,y)\n",
        "calc_spline(x, 1.75 , coef)"
      ],
      "execution_count": null,
      "outputs": [
        {
          "output_type": "stream",
          "text": [
            "A resistência do fio de 1.75 de diâmetro é 3.984561\n"
          ],
          "name": "stdout"
        }
      ]
    },
    {
      "cell_type": "markdown",
      "metadata": {
        "id": "nvLNIkkgQUNh"
      },
      "source": [
        "No  caso  das  funções  spline,  a  opção  feita  é  aproximar  a  função  tabelada,  em  cada  subintervalo  [xi,  xi+1],  por  um  polinômio  de  grau  p. No caso da questão 3, foi escolhido os cinco pontos dados, onde calculamos a spline cúbica para um fio de 1.75 de diâmetro, se seguirmos a lógica dos exercícios anteriores, onde usamos somente os pontos mais próximos ao ponto que queremos interpolar, justamente por causa do grau pedido em cada exercício, como exemplo das questões 1 e 2, onde se pede um polinômio interpolador de grau 3 e 4 respectivamente, porém, como não foi especificado dentro do exercício, decidi utilizar todos os pontos, ou seja, todas as resistências dos 5 fios de diversos diâmetros para a interpolação do fio de 1.75."
      ]
    },
    {
      "cell_type": "markdown",
      "metadata": {
        "id": "gndp88nPu7Sj"
      },
      "source": [
        "# Questão 4"
      ]
    },
    {
      "cell_type": "markdown",
      "metadata": {
        "id": "gdVBh8Ddu_kG"
      },
      "source": [
        "Encontre    a    função    f(x)    =    ax + b    que    melhor    se    ajusta    no    sentidode mínimos quadrados aos pontos dados. Então, responda cada item: \n",
        "\n",
        "a)Faça um gráfico com os pontos e o esboço da função ajustada. \n",
        "\n",
        "b)Encontre o valor de f(1,00).\n",
        "\n",
        "c)Encontre o valor de f(0,93). \n",
        "\n",
        "Forneça os valores calculados com 7 dígitos significativo por arredondamento."
      ]
    },
    {
      "cell_type": "code",
      "metadata": {
        "id": "SGwNI-zAvMfX"
      },
      "source": [
        "import matplotlib.pyplot as plt\n",
        "def MMQ(n, x, y, inicio, fim):\n",
        "  sumx = 0\n",
        "  sumxy = 0\n",
        "  st = 0\n",
        "  sumy = 0\n",
        "  sumx2 = 0\n",
        "  sr = 0\n",
        "\n",
        "  for i in range(0, n):\n",
        "    sumx = sumx + x[i]\n",
        "    sumy = sumy + y[i]\n",
        "    sumxy = sumxy + x[i] * y[i] \n",
        "    sumx2 = sumx2 + x[i] * x[i] \n",
        "  \n",
        "  xm = sumx/n\n",
        "  ym = sumy/n\n",
        "  al = (n*sumxy - sumx*sumy) / (n*sumx2 - sumx*sumx)\n",
        "  a0 = ym - al*xm\n",
        "\n",
        "  for i in range(0, n):\n",
        "    st = st + (y[i] - ym)**2\n",
        "    sr = sr + (y[i] - al*x[i] - a0)**2\n",
        "  \n",
        "  syx = (sr / (n-2))**0.5\n",
        "  r2 = (st - sr) / st\n",
        "\n",
        "  a = al\n",
        "  b = a0\n",
        "  a = round(a,7)\n",
        "  b = round(b,7)\n",
        "  print(\"a =\", a)\n",
        "  print(\"b =\", b)\n",
        "\n",
        "  f = lambda x_in: a*x_in + b\n",
        "  curva = np.linspace(inicio, fim, 200)\n",
        "  valores = [f(valor) for valor in curva]\n",
        "  plt.plot(curva, valores, linestyle='-')\n",
        "  plt.scatter(x, y)\n",
        "  plt.xlabel('Eixo x')\n",
        "  plt.ylabel('Eixo y')\n",
        "  plt.grid()\n",
        "  plt.show()"
      ],
      "execution_count": null,
      "outputs": []
    },
    {
      "cell_type": "code",
      "metadata": {
        "colab": {
          "base_uri": "https://localhost:8080/",
          "height": 576
        },
        "id": "AwH9KaYcv8Kn",
        "outputId": "ae9ebe94-fc61-45e2-b896-dc5f74e3436e"
      },
      "source": [
        "x = [-1.94, -1.44, 0.93, 1.39]\n",
        "y = [1.02, 0.59, -0.28, -1.04]\n",
        "plt.scatter(x,y)\n",
        "plt.xlabel('Eixo x')\n",
        "plt.ylabel('Eixo y')\n",
        "plt.grid()\n",
        "plt.show()\n",
        "MMQ(4, x, y, -2, 1.5)"
      ],
      "execution_count": null,
      "outputs": [
        {
          "output_type": "display_data",
          "data": {
            "image/png": "[encoded data removed]",
            "text/plain": [
              "<Figure size 432x288 with 1 Axes>"
            ]
          },
          "metadata": {
            "tags": [],
            "needs_background": "light"
          }
        },
        {
          "output_type": "stream",
          "text": [
            "a = -0.5336274\n",
            "b = -0.0689113\n"
          ],
          "name": "stdout"
        },
        {
          "output_type": "display_data",
          "data": {
            "image/png": "[encoded data removed]",
            "text/plain": [
              "<Figure size 432x288 with 1 Axes>"
            ]
          },
          "metadata": {
            "tags": [],
            "needs_background": "light"
          }
        }
      ]
    },
    {
      "cell_type": "code",
      "metadata": {
        "id": "7JnrgOZb-pHo"
      },
      "source": [
        "import matplotlib.pyplot as plt\n",
        "def MMQ(n, x, y, x_in):\n",
        "  sumx = 0\n",
        "  sumxy = 0\n",
        "  st = 0\n",
        "  sumy = 0\n",
        "  sumx2 = 0\n",
        "  sr = 0\n",
        "\n",
        "  for i in range(0, n):\n",
        "    sumx = sumx + x[i]\n",
        "    sumy = sumy + y[i]\n",
        "    sumxy = sumxy + x[i] * y[i] \n",
        "    sumx2 = sumx2 + x[i] * x[i] \n",
        "  \n",
        "  xm = sumx/n\n",
        "  ym = sumy/n\n",
        "  al = (n*sumxy - sumx*sumy) / (n*sumx2 - sumx*sumx)\n",
        "  a0 = ym - al*xm\n",
        "\n",
        "  for i in range(0, n):\n",
        "    st = st + (y[i] - ym)**2\n",
        "    sr = sr + (y[i] - al*x[i] - a0)**2\n",
        "  \n",
        "  syx = (sr / (n-2))**0.5\n",
        "  r2 = (st - sr) / st\n",
        "\n",
        "  a = al\n",
        "  b = a0\n",
        "  a = round(a,7)\n",
        "  b = round(b,7)\n",
        "  f = a*x_in + b\n",
        "  f = round(f,7)\n",
        "  return f\n"
      ],
      "execution_count": null,
      "outputs": []
    },
    {
      "cell_type": "code",
      "metadata": {
        "colab": {
          "base_uri": "https://localhost:8080/"
        },
        "id": "HIQjecka--yT",
        "outputId": "ccaf50ad-9d08-41d5-c750-518fc9c1790b"
      },
      "source": [
        "x = [-1.94, -1.44, 0.93, 1.39]\n",
        "y = [1.02, 0.59, -0.28, -1.04]\n",
        "MMQ(4, x, y, 1.0)"
      ],
      "execution_count": null,
      "outputs": [
        {
          "output_type": "execute_result",
          "data": {
            "text/plain": [
              "-0.6025387"
            ]
          },
          "metadata": {
            "tags": []
          },
          "execution_count": 47
        }
      ]
    },
    {
      "cell_type": "code",
      "metadata": {
        "colab": {
          "base_uri": "https://localhost:8080/"
        },
        "id": "xbctC21z_PZb",
        "outputId": "6e8ac5d2-5918-4933-bb37-dc487fde797b"
      },
      "source": [
        "x = [-1.94, -1.44, 0.93, 1.39]\n",
        "y = [1.02, 0.59, -0.28, -1.04]\n",
        "MMQ(4, x, y, 0.93)"
      ],
      "execution_count": null,
      "outputs": [
        {
          "output_type": "execute_result",
          "data": {
            "text/plain": [
              "-0.5651848"
            ]
          },
          "metadata": {
            "tags": []
          },
          "execution_count": 46
        }
      ]
    }
  ]
}
