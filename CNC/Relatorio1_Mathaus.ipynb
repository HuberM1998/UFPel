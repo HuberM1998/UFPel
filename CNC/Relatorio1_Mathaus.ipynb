{
  "nbformat": 4,
  "nbformat_minor": 0,
  "metadata": {
    "colab": {
      "name": "Relatorio1_Mathaus.ipynb",
      "provenance": [],
      "collapsed_sections": [],
      "include_colab_link": true
    },
    "kernelspec": {
      "name": "python3",
      "display_name": "Python 3"
    }
  },
  "cells": [
    {
      "cell_type": "markdown",
      "metadata": {
        "id": "view-in-github",
        "colab_type": "text"
      },
      "source": [
        "<a href=\"https://colab.research.google.com/github/HuberM1998/UFPel/blob/master/Relatorio1_Mathaus.ipynb\" target=\"_parent\"><img src=\"https://colab.research.google.com/assets/colab-badge.svg\" alt=\"Open In Colab\"/></a>"
      ]
    },
    {
      "cell_type": "markdown",
      "metadata": {
        "id": "bOo83wYe-7ze"
      },
      "source": [
        "Na implementação do código dos métodos númericos de bissecção, falsa posição, newton e secante, coloquei comentários a cada linha de código que achei necessária, para explicar como eu usei a lógica para chegar em cada resultado. Na Lista de exercícios 2 eu apenas utilizei esses códigos implementados anteriormente para resolver cada problema proposto, cada qual à sua maneira, com sua precisão e número de iterações diferentes.  "
      ]
    },
    {
      "cell_type": "code",
      "metadata": {
        "id": "V-ObaxjZWQun"
      },
      "source": [
        "import math\n",
        "\n",
        "def f(x):\n",
        "\t#retornando a função de entrada do exemplo em questão\n",
        "\treturn (x**10 -1)\n",
        "\n",
        "def bissec(a, b, ite_max):\n",
        "\n",
        "\tamplitude = b - a\n",
        "\t#amplitude de [a;b]\n",
        "\tx0 = (a + b)/2.0\n",
        "\t#ponto médio de [a;b]\n",
        "\ta_f = 0.001  \n",
        "\t#amplitude final, nesse caso escolhi um valor bem baixo, conforme o programa for calculando as aproximações, o intervalo inicial determinado vai mudar, vai se tornar menor, então eu defini aqui um valor para essa amplitude, um valor final para esse intervalo\n",
        "\tprecisao = 10**-4\n",
        "\t#tolerância\n",
        "\tcont = 0\n",
        "\t#contador dentro do laço\n",
        "\t\n",
        "\twhile(amplitude > a_f or math.fabs(f(x0)) > precisao):\n",
        "\t\t#enquanto a amplitude for maior que a amplitude final (a amplitude final de [a;b] não foi atingida) ou o módulo da função de ponto médio for maior que a tolerâcia, faça:\n",
        "\t\tamplitude = b - a\n",
        "\t\t#calculando novamente o valor da amplitude\n",
        "\t\tx0 = (a+b)/2.0\n",
        "\t\t#calculando novamente uma aproximação para o valor do ponto médio\n",
        "\t\tcont = cont + 1\n",
        "\t\t#incrementando o valor do contador a cada iteração\n",
        "\n",
        "\t\tif(f(a)*f(x0) < 0.0):\n",
        "\t\t\tb = x0\n",
        "\t\tif(f(a)*f(x0) >= 0.0):\n",
        "\t\t\ta = x0\n",
        "\t\t#se uma das condições for satisfeita então significa o ponto médio que calculamos anteriormente vai ser guardado em um dos pontos do intervalo, então o intervalo vai mudar, provavelmente vai ficar menor\n",
        "\t\tif(cont >= ite_max):\n",
        "\t\t\tbreak\n",
        "\t  #pode ser que a gente entre com um intervalo que essas condições nunca sejam satisfeitas, ou seja, nossos critérios de parada nunca ocorram, caindo em um loop infinito, por isso achei interessante colocar mais um critério de parada, onde tenha certeza que esse critério será satisfeito\n",
        "\t\t\n",
        "\tprint(' Raíz: %f\\n Iterações: %i' %(x0,cont))\n",
        "\n",
        "\n",
        "\n"
      ],
      "execution_count": null,
      "outputs": []
    },
    {
      "cell_type": "code",
      "metadata": {
        "id": "7KZWqIhwyRUG"
      },
      "source": [
        "import math\n",
        "\n",
        "def f(x):\n",
        "\t#retornando a função de entrada do exemplo em questão\n",
        "\treturn (x**10 -1)\n",
        "\n",
        "def posicao(a, b, ite_max):\n",
        "\t\n",
        "\tamplitude = b - a\n",
        "\t#amplitude de [a;b]\n",
        "\tx0 = (a*f(b) - b*f(a)) / (f(b) - f(a))\n",
        "  #calculando a equação da falsa posição\n",
        "\ta_f = 0.001\n",
        "\t#amplitude final\n",
        "\tprecisao = 10**-4\n",
        "\t#tolerância\n",
        "\tcont = 0\n",
        "\t#contador dentro do laço\n",
        "\twhile(amplitude > a_f or math.fabs(f(x0)) > precisao):\n",
        "\t\t#enquanto a amplitude for maior que a amplitude final (a amplitude final de [a;b] não foi atingida) ou o módulo da função de ponto médio for maior que a tolerâcia, faça:\n",
        "\t\tamplitude = b - a\n",
        "\t\t#calculando novamente o valor da amplitude\n",
        "\t\tx0 = (a*f(b) - b*f(a)) / (f(b) - f(a))\n",
        "\t  #calculando novamente uma aproximação para o valor da equação da falsa posição\n",
        "\t\tcont = cont + 1\n",
        "\t\t#incrementando o valor do contador a cada iteração\n",
        "\n",
        "\t\tif(f(a)*f(x0) < 0.0):\n",
        "\t\t\tb = x0\n",
        "\t\tif(f(a)*f(x0) >= 0.0):\n",
        "\t\t\ta = x0\n",
        "\t\t#se uma das condições for satisfeita então significa o valor da equação que calculamos anteriormente vai ser guardado em um dos pontos do intervalo, então o intervalo vai mudar, provavelmente vai ficar menor\n",
        "\t\t\n",
        "\t\tif(cont >= ite_max):\n",
        "\t\t\tbreak\n",
        "\t\t #pode ser que a gente entre com um intervalo que essas condições nunca sejam satisfeitas, ou seja, nossos critérios de parada nunca ocorram, caindo em um loop infinito, por isso achei interessante colocar mais um critério de parada, onde tenha certeza que esse critério será satisfeito\n",
        "\tprint(' Raíz: %f\\n Iterações: %i' %(x0,cont))\n"
      ],
      "execution_count": null,
      "outputs": []
    },
    {
      "cell_type": "code",
      "metadata": {
        "id": "LOCU9TZQt0aa"
      },
      "source": [
        "import math\n",
        "\n",
        "def f(x):\n",
        "\t#retornando a função de entrada do exemplo em questão\n",
        "\treturn (x**3 - 6*x**2 + 11*x - 6.1)\n",
        "\n",
        "def df(x):\n",
        "\th = 0.000001\n",
        "\t#Lembrando que a derivada podemos representar por uma equação, sendo o limite de h tendendo a zero, podemos dizer que a derivada dessa função é aproximadamente essa expressão sem o limite para um h muito pequeno.\n",
        "\treturn ((f(x+h) - f(x))/h)\n",
        "  #Aqui eu usei a formula para o cálculo da derivada por definição, nos exercícios da lista 2 eu acabei fazendo o cálculo manualmente, por não saber se realmente estava correta dessa forma (acredito que funciona bem, testei algumas vezes e deu certo), porém achei mais seguro colocar manualmente o cálculo da derivada. \n",
        "\t\n",
        "def newton(x0, ite_max):\n",
        "\t\n",
        "\tx = 0.0\n",
        "\t#variável que vai receber o valor no ponto\n",
        "\tprecisao = 10**-5\n",
        "\t#tolerância\n",
        "\tcont = 1\n",
        "\t#contador dentro do laço\n",
        "\t\n",
        "\twhile(math.fabs(f(x0)) > precisao):\n",
        "\t\t#enquanto o valor absoluto da minha função avaliado em x0 for maior que a tolerância, faça:\n",
        "\t\tx = x0 - f(x0)/df(x0)\n",
        "\t  #calculando a equação do método de newton\n",
        "\t\tx0 = x\n",
        "\t\t#x0 vai ser atualizado com esse novo valor dessa nova aproximação que foi feita\n",
        "\t\tcont = cont + 1\n",
        "\t\t#incrementando o valor do contador a cada iteração\n",
        "\n",
        "\t\tif(cont >= ite_max):\n",
        "\t\t\tprint('RAÍZ NÃO ENCONTRADA')\n",
        "\t\t\tbreak\n",
        "    #critério de parada para abandonar o laço, onde ele não chega a encontrar a raíz da função até bater o nosso limite de iterações\n",
        "\tif (cont < ite_max):\n",
        "\t\t\n",
        "\t\tprint(' Raíz: %f\\n Iterações: %i' %(x0,cont))\n",
        "      "
      ],
      "execution_count": null,
      "outputs": []
    },
    {
      "cell_type": "code",
      "metadata": {
        "id": "Bfou29Xv0IFK"
      },
      "source": [
        "import math\n",
        "\n",
        "def f(x):\n",
        "\t#retornando a função de entrada do exemplo em questão\n",
        "\treturn (x**3 - 6*x**2 + 11*x - 6.1)\n",
        "\t\n",
        "def secante(x0, x1, ite_max):\n",
        "\t\n",
        "\tprecisao = 10**-5\n",
        "\t#tolerância\n",
        "\txn = 0.0\n",
        "\t#variável que vai receber o valor no ponto\n",
        "\tx = []\n",
        "\t#lista para guardar as aproximações\n",
        "\tx.append(x0)\n",
        "\tx.append(x1)\n",
        "\t#método append adiciona o valor de x0 e x1 na ultima posição da lista\n",
        "\tcont = 1\n",
        "\t#contador dentro do laço\n",
        "\tn = 1\n",
        "\t#variável que vai contar as posições dentro da equação do método da secante, começando em 1 pois quando o algoritmo fizer o calculo x(n-1) o valor de n tem que ser maior ou igual a um para não dar um número negativo, e a listas começam a contar as posições a partir do zero.\n",
        "\twhile(math.fabs(f(x0)) > precisao):\n",
        "\t\t#enquanto o valor absoluto da minha função avaliado em x0 for maior que a tolerância, faça:\n",
        "\t\txn = x[n] - (x[n] - x[n-1])/(f(x[n]) - f(x[n-1]))*f(x[n])\n",
        "\t  #calculando a equação do método da secante\n",
        "\t\tx.append(xn)\n",
        "\t\t#adicionando o valor da variavel que recebe o valor final na última posição da lista\n",
        "\t\tn = n + 1\n",
        "\t\t#incrementando o valor da váriavel n da equação da secante\n",
        "\t\tcont = cont + 1\n",
        "\t\t#incrementando o valor do contador a cada iteração\n",
        "\t\t\n",
        "\t\tif(cont >= ite_max):\n",
        "\t\t\tbreak\n",
        "\t\t#critério de parada para abandonar o laço\n",
        "\tprint(' Raíz: %f\\n Iterações: %i' %(xn,cont))"
      ],
      "execution_count": null,
      "outputs": []
    },
    {
      "cell_type": "markdown",
      "metadata": {
        "id": "2kn79EDHqr5E"
      },
      "source": [
        "Questão 1– Determine a raiz da função f(x) = x**10 -1 com o método da bissecção e da falsa posição. Utilize cinco iterações e as aproximações iniciais a = 0 e b = 1,3. Qual dos métodos obteve melhor desempenho? Porque?"
      ]
    },
    {
      "cell_type": "code",
      "metadata": {
        "id": "RI5QwVFDrB9E"
      },
      "source": [
        "import math\n",
        "\n",
        "def f(x):\n",
        "\treturn (x**10 -1)\n",
        "\n",
        "def bissec(a, b, ite_max):\n",
        "\n",
        "\tamplitude = b - a\n",
        "\tx0 = (a + b)/2.0\n",
        "\ta_f = 0.001  \n",
        "\tprecisao = 10**-4\n",
        "\tcont = 0\n",
        "\t\n",
        "\twhile(amplitude > a_f or math.fabs(f(x0)) > precisao):\n",
        "\t\tamplitude = b - a\n",
        "\t\tx0 = (a+b)/2.0\n",
        "\t\tcont = cont + 1\n",
        "\n",
        "\t\tif(f(a)*f(x0) < 0.0):\n",
        "\t\t\tb = x0\n",
        "\t\tif(f(a)*f(x0) >= 0.0):\n",
        "\t\t\ta = x0\n",
        "\t\t\t\n",
        "\t\tif(cont >= ite_max):\n",
        "\t\t\tbreak\n",
        "\t\t\n",
        "\tprint(' Raíz: %f\\n Iterações: %i\\n f(%f) = %f' %(x0,cont,x0,f(x0)))\n"
      ],
      "execution_count": null,
      "outputs": []
    },
    {
      "cell_type": "code",
      "metadata": {
        "id": "deRK7eOlrRRL",
        "colab": {
          "base_uri": "https://localhost:8080/",
          "height": 69
        },
        "outputId": "a634e01f-ae7c-4dd0-9022-4e9924eb3186"
      },
      "source": [
        "bissec (0, 1.3, 5)"
      ],
      "execution_count": null,
      "outputs": [
        {
          "output_type": "stream",
          "text": [
            " Raíz: 1.015625\n",
            " Iterações: 5\n",
            " f(1.015625) = 0.167707\n"
          ],
          "name": "stdout"
        }
      ]
    },
    {
      "cell_type": "code",
      "metadata": {
        "id": "ieIb-ji7r6kf"
      },
      "source": [
        "import math\n",
        "\n",
        "def f(x):\n",
        "\treturn (x**10 -1)\n",
        "\n",
        "def posicao(a, b, ite_max):\n",
        "\t\n",
        "\tamplitude = b - a\n",
        "\tx0 = (a*f(b) - b*f(a)) / (f(b) - f(a))\n",
        "\ta_f = 0.001\n",
        "\tprecisao = 10**-4\n",
        "\tcont = 0\n",
        "\t\n",
        "\twhile(amplitude > a_f or math.fabs(f(x0)) > precisao):\n",
        "\t\t\n",
        "\t\tamplitude = b - a\n",
        "\t\tx0 = (a*f(b) - b*f(a)) / (f(b) - f(a))\n",
        "\t\tcont = cont + 1\n",
        "\t\t\n",
        "\t\tif(f(a)*f(x0) < 0.0):\n",
        "\t\t\tb = x0\n",
        "\t\tif(f(a)*f(x0) >= 0.0):\n",
        "\t\t\ta = x0\n",
        "\t\t\t\n",
        "\t\t\n",
        "\t\tif(cont >= ite_max):\n",
        "\t\t\tbreak\n",
        "\t\t\n",
        "\tprint(' Raíz: %f\\n Iterações: %i\\n f(%f) = %f' %(x0,cont,x0,f(x0)))\n"
      ],
      "execution_count": null,
      "outputs": []
    },
    {
      "cell_type": "code",
      "metadata": {
        "id": "dP9FUK8bsDKO",
        "colab": {
          "base_uri": "https://localhost:8080/",
          "height": 69
        },
        "outputId": "34fcbcd1-5636-41fd-bb1e-be63d7d73c59"
      },
      "source": [
        "posicao(0, 1.3, 5)"
      ],
      "execution_count": null,
      "outputs": [
        {
          "output_type": "stream",
          "text": [
            " Raíz: 0.407878\n",
            " Iterações: 5\n",
            " f(0.407878) = -0.999873\n"
          ],
          "name": "stdout"
        }
      ]
    },
    {
      "cell_type": "markdown",
      "metadata": {
        "id": "sBG1kizRtrTL"
      },
      "source": [
        "Na maioria dos casos, o método da falsa posição converge mais rápido que o método da bisseção. Contudo, o algoritmo tem a desvantagem de que, se a função é convexa ou côncava próximo da solução, o ponto do intervalo mais distante da solução fica fixo, variando somente na sua vizinhança, convergindo muito lentamente (inclusive podendo ser mais lento que o método da bisseção). O que se aplica neste exemplo (Questão 1), onde o método da bissecção converge mais rápido, calculando a saída da função na posição da raíz nota-se que na bissecção esse valor fica mais próximo de 0 do que na falsa posição.\n"
      ]
    },
    {
      "cell_type": "markdown",
      "metadata": {
        "id": "f65Sk0i8vseK"
      },
      "source": [
        "Questão 2– Determine a raiz da função de f(x) = x3–6x2+ 11x –6,1 \n",
        "\n",
        "a)Graficamente\n",
        "\n",
        "b)Usando o método da tangente (três iterações, x0= 3,5)\n",
        "\n",
        "c)Usando o método da secante (três iterações, x0= 2,5 e x1= 3,5)\n",
        "\n",
        "d)Discuta sobre os resultados obtidos"
      ]
    },
    {
      "cell_type": "code",
      "metadata": {
        "id": "crJJ6w2nBHoR",
        "colab": {
          "base_uri": "https://localhost:8080/",
          "height": 282
        },
        "outputId": "2d88a8a6-8ca8-41b7-b30e-7c4ca2b4588f"
      },
      "source": [
        "import numpy as np\n",
        "import matplotlib.pyplot as plt\n",
        "\n",
        "funcao = lambda x: x**3 - 6*x**2 + 11+x - 6.1\n",
        "inicio = 0\n",
        "fim = 2\n",
        "nr_pontos = 100\n",
        "curva = np.linspace(inicio, fim, nr_pontos)\n",
        "valores = [funcao(valor) for valor in curva]\n",
        "plt.plot(curva, valores, linestyle= '-')"
      ],
      "execution_count": null,
      "outputs": [
        {
          "output_type": "execute_result",
          "data": {
            "text/plain": [
              "[<matplotlib.lines.Line2D at 0x7f2de6436be0>]"
            ]
          },
          "metadata": {
            "tags": []
          },
          "execution_count": 6
        },
        {
          "output_type": "display_data",
          "data": {
            "image/png": "[encoded data removed]",
            "text/plain": [
              "<Figure size 432x288 with 1 Axes>"
            ]
          },
          "metadata": {
            "tags": [],
            "needs_background": "light"
          }
        }
      ]
    },
    {
      "cell_type": "code",
      "metadata": {
        "id": "LRJ7kwck6x0e"
      },
      "source": [
        "import math\n",
        "\n",
        "def f(x):\n",
        "\treturn (x**3 - 6*x**2 + 11*x - 6.1)\n",
        "\n",
        "def df(x):\n",
        "\th = 0.000001\n",
        "\treturn((f(x+h) - f(x))/h)\n",
        "\t\n",
        "def newton(x0, ite_max):\n",
        "\t\n",
        "\tx = 0.0\n",
        "\tprecisao = 10**-5\n",
        "\tcont = 1\n",
        "\t\n",
        "\twhile(math.fabs(f(x0)) > precisao):\n",
        "\t\tx = x0 - f(x0)/df(x0)\n",
        "\t\tx0 = x\n",
        "\t\tcont = cont + 1\n",
        "\t\tif(cont >= ite_max):\n",
        "\t\t\tprint('RAÍZ NÃO ENCONTRADA')\n",
        "\t\t\tbreak\n",
        "\tif (cont < ite_max):\n",
        "\t\tprint(' Raíz: %f\\n Iterações: %i' %(x0,cont))"
      ],
      "execution_count": null,
      "outputs": []
    },
    {
      "cell_type": "code",
      "metadata": {
        "id": "nnjHUNCX7BU7",
        "colab": {
          "base_uri": "https://localhost:8080/",
          "height": 34
        },
        "outputId": "e0fe910d-b614-450a-97b0-405839172853"
      },
      "source": [
        "newton(3.5, 3)\n"
      ],
      "execution_count": null,
      "outputs": [
        {
          "output_type": "stream",
          "text": [
            "RAÍZ NÃO ENCONTRADA\n"
          ],
          "name": "stdout"
        }
      ]
    },
    {
      "cell_type": "code",
      "metadata": {
        "id": "38NTniTdDTod"
      },
      "source": [
        "import math\n",
        "\n",
        "def f(x):\n",
        "\treturn (x**3 - 6*x**2 + 11*x - 6.1)\n",
        "\t\n",
        "def secante(x0, x1, ite_max):\n",
        "\t\n",
        "\tprecisao = 10**-5\n",
        "\txn = 0.0\n",
        "\tx = []\n",
        "\t\n",
        "\tx.append(x0)\n",
        "\tx.append(x1)\n",
        "\t\n",
        "\tcont = 1\n",
        "\tn = 1\n",
        "\twhile(math.fabs(f(x0)) > precisao):\n",
        "\t\txn = x[n] - (x[n] - x[n-1])/(f(x[n]) - f(x[n-1]))*f(x[n])\n",
        "\t\tx.append(xn)\n",
        "\t\tn = n + 1\n",
        "\t\tcont = cont + 1\n",
        "\t\t\n",
        "\t\tif(cont >= ite_max):\n",
        "\t\t\tbreak\n",
        "\tprint(' Raíz: %f\\n Iterações: %i' %(xn,cont))"
      ],
      "execution_count": null,
      "outputs": []
    },
    {
      "cell_type": "code",
      "metadata": {
        "id": "I628pyKLDVTM",
        "colab": {
          "base_uri": "https://localhost:8080/",
          "height": 52
        },
        "outputId": "0ba5d124-4e9f-4e3e-c1b7-d86ad331e944"
      },
      "source": [
        "secante (2.5, 3.5, 3)"
      ],
      "execution_count": null,
      "outputs": [
        {
          "output_type": "stream",
          "text": [
            " Raíz: 2.871091\n",
            " Iterações: 3\n"
          ],
          "name": "stdout"
        }
      ]
    },
    {
      "cell_type": "markdown",
      "metadata": {
        "id": "VhmA91t1EcIN"
      },
      "source": [
        "O método de newton não encontrou a raíz após 3 iterações, porém, com o número de iterações maior o método da tangente encontra uma raíz para a equação, nesse caso, testei com 10 iterações e obtive exito. O que acontece é que no caso do método de newton uma vez iniciado, o programa irá entrar em um laço que irá obter valores cada vez mais próximos da raiz da função, esse processo irá se repetir até que uma precisão pré-determinada seja alcançada no nosso caso um critério de parada, fazendo que o algoritmo necessite de mais iterações para encontrar a Raíz\n",
        "\n",
        "Por outro lado, o método da secante, encontrou a raíz após três iterações. O que acontece é que não é necessário que a raiz da função esteja contida no intervalo e, por essa razão, é sua viabilidade em certos casos é maior. \n",
        "O método da secante é similar ao método da tangente, a diferença é que a reta secante é substituída pela tangente em um dado ponto. A substituição da tangente no método de Newton pela secante torna o método relativamente mais simples, pois não é necessário calcular a derivada da função para de obter o coeficiente angular da reta. \n",
        "\n"
      ]
    },
    {
      "cell_type": "markdown",
      "metadata": {
        "id": "V5jvb1xuZjaC"
      },
      "source": [
        "Questão 3– Use o método da bissecção para determinar uma raiz de f(x) = (x/2)2–sen(x) utilizando as aproximações iniciais a= 1,5 e b= 2 e  𝜀= 0,001% . Explique seus resultados."
      ]
    },
    {
      "cell_type": "code",
      "metadata": {
        "id": "KErJAaEuZ_7M"
      },
      "source": [
        "import math\n",
        "\n",
        "#neste caso, como o número de iterações máximas não é especificado, defini um padrão de 100 iterações\n",
        "ite_max = 100\n",
        "def f(x):\n",
        "\treturn ((x/2)**2 - math.sin(x))\n",
        "\n",
        "def bissec(a, b):\n",
        "\n",
        "\tamplitude = b - a\n",
        "\tx0 = (a + b)/2.0\n",
        "\ta_f = 0.001  \n",
        "\tprecisao = 0.001\n",
        "\tcont = 0\n",
        "\n",
        "\twhile(amplitude > a_f or math.fabs(f(x0)) > precisao):\n",
        "\t\tif(f(a)*f(x0) < 0.0):\n",
        "\t\t\tb = x0\n",
        "\t\tif(f(a)*f(x0) > 0.0):\n",
        "\t\t\ta = x0\n",
        "\t\t\t\n",
        "\t\tamplitude = b - a\n",
        "\t\tx0 = (a+b)/2.0\n",
        "\t\tcont = cont + 1\n",
        "\t\tif(cont >= ite_max):\n",
        "\t\t\tbreak\n",
        "\t\t\n",
        "\tprint(' Raíz: %f\\n Iterações: %i' %(x0,cont))"
      ],
      "execution_count": null,
      "outputs": []
    },
    {
      "cell_type": "code",
      "metadata": {
        "id": "Mnl4c7xLwaaO",
        "colab": {
          "base_uri": "https://localhost:8080/",
          "height": 52
        },
        "outputId": "d7f66e11-499e-433a-d3e1-1091bd1421f1"
      },
      "source": [
        "bissec (1.5,2)"
      ],
      "execution_count": null,
      "outputs": [
        {
          "output_type": "stream",
          "text": [
            " Raíz: 1.933754\n",
            " Iterações: 29\n"
          ],
          "name": "stdout"
        }
      ]
    },
    {
      "cell_type": "markdown",
      "metadata": {
        "id": "Fg6L0p28yElL"
      },
      "source": [
        "Dada a precisao 𝜀 sendo nosso critério de parada do algoritmo, ou seja, o nosso processo iterativo é finalizado quando se obtém um intervalo cujo tamanho é menor  ou  igual a 𝜀. Temos que, quanto menor a precisão, maior o número de iterações o algoritmo vai fazer para conseguir encontrar a raíz.\n",
        "\n",
        "Um exemplo disso foi nesse exemplo, onde pede uma precisão de 0,001% que o algoritmo acabou encontrando a raíz: 1,933754 após 11 iterações, acabei testando com uma precisão menor, sendo 𝜀 = 0.0000000001% e o algoritmo encontrou a mesma raíz, porém após 29 iterações"
      ]
    },
    {
      "cell_type": "markdown",
      "metadata": {
        "id": "kE_oVtVb4uT9"
      },
      "source": [
        "Questão 4– Use o método da tangente para determinar uma raiz de f(x) = x5–16,05x4+ 88,75x3–192,0375x2+ 116,35x + 31,6875 utilizando uma aproximação inicial de x0= 0,5825 e 𝜀= 0,01% . Explique seus resultados."
      ]
    },
    {
      "cell_type": "code",
      "metadata": {
        "id": "h8bGhxlM5PeN"
      },
      "source": [
        "import math\n",
        "\n",
        "#neste caso, como o número de iterações máximas não é especificado, defini um padrão de 100 iterações\n",
        "ite_max = 100\n",
        "\n",
        "def f(x):\n",
        "\treturn (x**5 - 16.05*x**4 + 88.75*x**3 - 192.0375*x**2 + 116.35*x + 31.6875)\n",
        "\n",
        "def df(x):\n",
        "\th = 0.000001\n",
        "\treturn ((f(x+h) - f(x))/h)\n",
        "\t\n",
        "def newton(x0):\n",
        "\t\n",
        "\tx = 0.0\n",
        "\tprecisao = 0.01\n",
        "\tcont = 1\n",
        "\t\n",
        "\twhile(math.fabs(f(x0)) > precisao):\n",
        "\t\tx = x0 - f(x0)/df(x0)\n",
        "\t\tx0 = x\n",
        "\t\tcont = cont + 1\n",
        "\t\tif(cont >= ite_max):\n",
        "\t\t\tprint('RAÍZ NÃO ENCONTRADA')\n",
        "\t\t\tbreak\n",
        "\tif (cont < ite_max):\n",
        "\t\tprint(' Raíz: %f\\n Iterações: %i' %(x0,cont))"
      ],
      "execution_count": null,
      "outputs": []
    },
    {
      "cell_type": "code",
      "metadata": {
        "id": "1Dn6z8aP6Vtz",
        "colab": {
          "base_uri": "https://localhost:8080/",
          "height": 52
        },
        "outputId": "2d9a17df-2525-4fb7-8da0-262e9419c11d"
      },
      "source": [
        "newton(0.5825)"
      ],
      "execution_count": null,
      "outputs": [
        {
          "output_type": "stream",
          "text": [
            " Raíz: 6.500018\n",
            " Iterações: 22\n"
          ],
          "name": "stdout"
        }
      ]
    },
    {
      "cell_type": "markdown",
      "metadata": {
        "id": "Jd6NNawVS7AY"
      },
      "source": [
        "Dada a precisao 𝜀 sendo nosso critério de parada do algoritmo, temos o mesmo do exemplo anterior onde, quanto menor a precisão, maior o número de iterações, porém, no método de newton, esse número de iterações se viu mais lenta.\n",
        "\n",
        "Onde foi testado, com uma precisão de 0,01% que o algoritmo acabou encontrando a raíz: 6.500018 após 22 iterações, acabei testando com uma precisão menor, sendo 𝜀 = 0.0000000001% e o algoritmo encontrou a mesma raíz, porém após 24 iterações"
      ]
    },
    {
      "cell_type": "markdown",
      "metadata": {
        "id": "pZ2hpXVDTbUl"
      },
      "source": [
        "Questão 5– Compare  o  desempenho  dos  métodos  da  Bissecção,  Falsa  Posição, Tangente  e Secante nas equações abaixo: \n",
        "\n",
        "a)f(x) = e!\"!–cos(x)   𝜀1 =𝜀2 = 10 -4 𝜉∈[1, 2]\n",
        "\n",
        "b)f(x) = x3–x–1 𝜀1 = 𝜀2 = 10 -6 𝜉∈[1,2]\n",
        "\n",
        "c)f(x) = 4 sen(x) –e\"𝜀1 =𝜀2 = 10 -5𝜉∈[0,1]\n",
        "\n",
        "d)f(x) = x log(x) –1𝜀1 =𝜀2 = 10 -7𝜉∈[2,3]"
      ]
    },
    {
      "cell_type": "code",
      "metadata": {
        "id": "S-6YoYxiUsJt"
      },
      "source": [
        "import math\n",
        "\n",
        "#neste caso, como o número de iterações máximas não é especificado, defini um padrão de 100 iterações\n",
        "ite_max = 100\n",
        "\n",
        "def f(x):\n",
        "\treturn (math.e**-x**2 - math.cos(x))\n",
        "\n",
        "def bissec(a, b):\n",
        "\n",
        "\tamplitude = b - a\n",
        "\tx0 = (a + b)/2.0\n",
        "\ta_f = 0.001  \n",
        "\tprecisao = 10**-4\n",
        "\tcont = 0\n",
        "\t\n",
        "\twhile(amplitude > a_f or math.fabs(f(x0)) > precisao):\n",
        "\t\tamplitude = b - a\n",
        "\t\tx0 = (a+b)/2.0\n",
        "\t\tcont = cont + 1\n",
        "\n",
        "\t\tif(f(a)*f(x0) < 0.0):\n",
        "\t\t\tb = x0\n",
        "\t\tif(f(a)*f(x0) >= 0.0):\n",
        "\t\t\ta = x0\n",
        "\n",
        "\t\tif(cont >= ite_max):\n",
        "\t\t\tbreak\n",
        "\t\t\n",
        "\tprint(' Raíz: %f\\n Iterações: %i\\n f(%f) = %f' %(x0,cont,x0,f(x0)))"
      ],
      "execution_count": null,
      "outputs": []
    },
    {
      "cell_type": "code",
      "metadata": {
        "id": "wo2CAprpWShL",
        "colab": {
          "base_uri": "https://localhost:8080/",
          "height": 69
        },
        "outputId": "ef3071ab-dc89-473e-b984-dc86f01f3e65"
      },
      "source": [
        "bissec(1,2)"
      ],
      "execution_count": null,
      "outputs": [
        {
          "output_type": "stream",
          "text": [
            " Raíz: 1.447266\n",
            " Iterações: 9\n",
            " f(1.447266) = -0.000095\n"
          ],
          "name": "stdout"
        }
      ]
    },
    {
      "cell_type": "code",
      "metadata": {
        "id": "WTR4rfflW-sO"
      },
      "source": [
        "import math\n",
        "\n",
        "#neste caso, como o número de iterações máximas não é especificado, defini um padrão de 100 iterações\n",
        "ite_max = 100\n",
        "\n",
        "def f(x):\n",
        "\treturn (math.e**-x**2 - math.cos(x))\n",
        "\n",
        "def posicao(a, b):\n",
        "\t\n",
        "\tamplitude = b - a\n",
        "\tx0 = (a*f(b) - b*f(a)) / (f(b) - f(a))\n",
        "\ta_f = 0.001\n",
        "\tprecisao = 10**-4\n",
        "\tcont = 0\n",
        "\t\n",
        "\twhile(amplitude > a_f or math.fabs(f(x0)) > precisao):\n",
        "\t\t\n",
        "\t\tamplitude = b - a\n",
        "\t\tx0 = (a*f(b) - b*f(a)) / (f(b) - f(a))\n",
        "\t\tcont = cont + 1\n",
        "\t\t\n",
        "\t\tif(f(a)*f(x0) < 0.0):\n",
        "\t\t\tb = x0\n",
        "\t\tif(f(a)*f(x0) >= 0.0):\n",
        "\t\t\ta = x0\n",
        "\t\t\t\n",
        "\t\t\n",
        "\t\tif(cont >= ite_max):\n",
        "\t\t\tbreak\n",
        "\t\t\n",
        "\tprint(' Raíz: %f\\n Iterações: %i\\n f(%f) = %f' %(x0,cont,x0,f(x0)))"
      ],
      "execution_count": null,
      "outputs": []
    },
    {
      "cell_type": "code",
      "metadata": {
        "id": "0lg_mANBXWy9",
        "colab": {
          "base_uri": "https://localhost:8080/",
          "height": 69
        },
        "outputId": "86369cea-c08a-442a-a2e4-4edc420c64f2"
      },
      "source": [
        "posicao(1,2)"
      ],
      "execution_count": null,
      "outputs": [
        {
          "output_type": "stream",
          "text": [
            " Raíz: 1.447357\n",
            " Iterações: 6\n",
            " f(1.447357) = -0.000036\n"
          ],
          "name": "stdout"
        }
      ]
    },
    {
      "cell_type": "code",
      "metadata": {
        "id": "tk2lA60TX0JI"
      },
      "source": [
        "import math\n",
        "\n",
        "#neste caso, como o número de iterações máximas não é especificado, defini um padrão de 100 iterações\n",
        "ite_max = 100\n",
        "\n",
        "def f(x):\n",
        "\treturn (math.e**-x**2 - math.cos(x))\n",
        "\n",
        "def df(x):\n",
        "\treturn (-2*(math.e**-x**2)*x + math.sin(x))\n",
        "\t\n",
        "def newton(x0):\n",
        "\t\n",
        "\tx = 0.0\n",
        "\tprecisao = 10**-5\n",
        "\tcont = 1\n",
        "\t\n",
        "\twhile(math.fabs(f(x0)) > precisao):\n",
        "\t\tx = x0 - f(x0)/df(x0)\n",
        "\t\tx0 = x\n",
        "\t\tcont = cont + 1\n",
        "\t\tif(cont >= ite_max):\n",
        "\t\t\tprint('RAÍZ NÃO ENCONTRADA')\n",
        "\t\t\tbreak\n",
        "\tif (cont < ite_max):\n",
        "\t\tprint(' Raíz: %f\\n Iterações: %i\\n f(%f) = %f' %(x0,cont,x0,f(x0)))\n",
        "      "
      ],
      "execution_count": null,
      "outputs": []
    },
    {
      "cell_type": "code",
      "metadata": {
        "id": "8c8z6PHeZUTf",
        "colab": {
          "base_uri": "https://localhost:8080/",
          "height": 69
        },
        "outputId": "0d40086b-58c9-450c-cebd-7bbfa7172946"
      },
      "source": [
        "newton(1)"
      ],
      "execution_count": null,
      "outputs": [
        {
          "output_type": "stream",
          "text": [
            " Raíz: -1.447414\n",
            " Iterações: 11\n",
            " f(-1.447414) = 0.000000\n"
          ],
          "name": "stdout"
        }
      ]
    },
    {
      "cell_type": "code",
      "metadata": {
        "id": "VP1kmzdaaF8E"
      },
      "source": [
        "import math\n",
        "\n",
        "#neste caso, como o número de iterações máximas não é especificado, defini um padrão de 100 iterações\n",
        "ite_max = 100\n",
        "\n",
        "def f(x):\n",
        "\treturn (math.e**-x**2 - math.cos(x))\n",
        "\t\n",
        "def secante(x0, x1):\n",
        "\t\n",
        "\tprecisao = 10**-5\n",
        "\txn = 0.0\n",
        "\tx = []\n",
        "\t\n",
        "\tx.append(x0)\n",
        "\tx.append(x1)\n",
        "\t\n",
        "\tcont = 1\n",
        "\tn = 1\n",
        "\twhile(math.fabs(f(x0)) > precisao):\n",
        "\t\txn = x[n] - (x[n] - x[n-1])/(f(x[n]) - f(x[n-1]))*f(x[n])\n",
        "\t\tx.append(xn)\n",
        "\t\tn = n + 1\n",
        "\t\tcont = cont + 1\n",
        "\t\t\n",
        "\t\tif(cont >= ite_max):\n",
        "\t\t\tbreak\n",
        "\tprint(' Raíz: %f\\n Iterações: %i\\n f(%f) = %f' %(x0,cont,x0,f(x0)))"
      ],
      "execution_count": null,
      "outputs": []
    },
    {
      "cell_type": "code",
      "metadata": {
        "id": "ZuaNqCIbbV63"
      },
      "source": [
        "secante(5,3)"
      ],
      "execution_count": null,
      "outputs": []
    },
    {
      "cell_type": "code",
      "metadata": {
        "id": "cDrKIpiUclKF"
      },
      "source": [
        "import math\n",
        "\n",
        "#neste caso, como o número de iterações máximas não é especificado, defini um padrão de 100 iterações\n",
        "ite_max = 100\n",
        "\n",
        "def f(x):\n",
        "\treturn (x**3 -x -1)\n",
        "\n",
        "def bissec(a, b):\n",
        "\n",
        "\tamplitude = b - a\n",
        "\tx0 = (a + b)/2.0\n",
        "\ta_f = 0.001  \n",
        "\tprecisao = 10**-6\n",
        "\tcont = 0\n",
        "\t\n",
        "\twhile(amplitude > a_f or math.fabs(f(x0)) > precisao):\n",
        "\t\tamplitude = b - a\n",
        "\t\tx0 = (a+b)/2.0\n",
        "\t\tcont = cont + 1\n",
        "\n",
        "\t\tif(f(a)*f(x0) < 0.0):\n",
        "\t\t\tb = x0\n",
        "\t\tif(f(a)*f(x0) >= 0.0):\n",
        "\t\t\ta = x0\n",
        "\n",
        "\t\tif(cont >= ite_max):\n",
        "\t\t\tbreak\n",
        "\t\t\n",
        "\tprint(' Raíz: %f\\n Iterações: %i\\n f(%f) = %f' %(x0,cont,x0,f(x0)))"
      ],
      "execution_count": null,
      "outputs": []
    },
    {
      "cell_type": "code",
      "metadata": {
        "id": "WffwEXwqdbDj",
        "colab": {
          "base_uri": "https://localhost:8080/",
          "height": 69
        },
        "outputId": "6573073f-43c2-4795-b338-b4d1e84a1468"
      },
      "source": [
        "bissec(1,2)"
      ],
      "execution_count": null,
      "outputs": [
        {
          "output_type": "stream",
          "text": [
            " Raíz: 1.324718\n",
            " Iterações: 21\n",
            " f(1.324718) = 0.000000\n"
          ],
          "name": "stdout"
        }
      ]
    },
    {
      "cell_type": "code",
      "metadata": {
        "id": "hrkzwXOqeGif"
      },
      "source": [
        "import math\n",
        "\n",
        "#neste caso, como o número de iterações máximas não é especificado, defini um padrão de 100 iterações\n",
        "ite_max = 100\n",
        "\n",
        "def f(x):\n",
        "\treturn (x**3 -x -1)\n",
        "\n",
        "def posicao(a, b):\n",
        "\t\n",
        "\tamplitude = b - a\n",
        "\tx0 = (a*f(b) - b*f(a)) / (f(b) - f(a))\n",
        "\ta_f = 0.001\n",
        "\tprecisao = 10**-6\n",
        "\tcont = 0\n",
        "\t\n",
        "\twhile(amplitude > a_f or math.fabs(f(x0)) > precisao):\n",
        "\t\t\n",
        "\t\tamplitude = b - a\n",
        "\t\tx0 = (a*f(b) - b*f(a)) / (f(b) - f(a))\n",
        "\t\tcont = cont + 1\n",
        "\t\t\n",
        "\t\tif(f(a)*f(x0) < 0.0):\n",
        "\t\t\tb = x0\n",
        "\t\tif(f(a)*f(x0) >= 0.0):\n",
        "\t\t\ta = x0\n",
        "\t\t\t\n",
        "\t\t\n",
        "\t\tif(cont >= ite_max):\n",
        "\t\t\tbreak\n",
        "\t\t\n",
        "\tprint(' Raíz: %f\\n Iterações: %i\\n f(%f) = %f' %(x0,cont,x0,f(x0)))"
      ],
      "execution_count": null,
      "outputs": []
    },
    {
      "cell_type": "code",
      "metadata": {
        "id": "wpjD10L4eR1q",
        "colab": {
          "base_uri": "https://localhost:8080/",
          "height": 69
        },
        "outputId": "eba25e69-51f6-47b6-ca56-9f9d2a166b5a"
      },
      "source": [
        "posicao(1,2)"
      ],
      "execution_count": null,
      "outputs": [
        {
          "output_type": "stream",
          "text": [
            " Raíz: 1.324718\n",
            " Iterações: 17\n",
            " f(1.324718) = -0.000001\n"
          ],
          "name": "stdout"
        }
      ]
    },
    {
      "cell_type": "code",
      "metadata": {
        "id": "h4DLDrOQeyVQ"
      },
      "source": [
        "import math\n",
        "\n",
        "#neste caso, como o número de iterações máximas não é especificado, defini um padrão de 100 iterações\n",
        "ite_max = 100\n",
        "\n",
        "def f(x):\n",
        "\treturn (x**3 -x -1)\n",
        "\n",
        "def df(x):\n",
        "\treturn (3*x**2 - 1)\n",
        "\t\n",
        "def newton(x0):\n",
        "\t\n",
        "\tx = 0.0\n",
        "\tprecisao = 10**-6\n",
        "\tcont = 1\n",
        "\t\n",
        "\twhile(math.fabs(f(x0)) > precisao):\n",
        "\t\tx = x0 - f(x0)/df(x0)\n",
        "\t\tx0 = x\n",
        "\t\tcont = cont + 1\n",
        "\t\tif(cont >= ite_max):\n",
        "\t\t\tprint('RAÍZ NÃO ENCONTRADA')\n",
        "\t\t\tbreak\n",
        "\tif (cont < ite_max):\n",
        "\t\tprint(' Raíz: %f\\n Iterações: %i\\n f(%f) = %f' %(x0,cont,x0,f(x0)))\n",
        "      "
      ],
      "execution_count": null,
      "outputs": []
    },
    {
      "cell_type": "code",
      "metadata": {
        "id": "fvsabwVle9uX",
        "colab": {
          "base_uri": "https://localhost:8080/",
          "height": 69
        },
        "outputId": "feaa770e-c2cc-42fd-8d51-0e7ff242c772"
      },
      "source": [
        "newton(1)"
      ],
      "execution_count": null,
      "outputs": [
        {
          "output_type": "stream",
          "text": [
            " Raíz: 1.324718\n",
            " Iterações: 5\n",
            " f(1.324718) = 0.000001\n"
          ],
          "name": "stdout"
        }
      ]
    },
    {
      "cell_type": "code",
      "metadata": {
        "id": "0-4k0xcAf14W"
      },
      "source": [
        "import math\n",
        "\n",
        "#neste caso, como o número de iterações máximas não é especificado, defini um padrão de 100 iterações\n",
        "ite_max = 100\n",
        "\n",
        "def f(x):\n",
        "\treturn (x**3 -x -1)\n",
        "\t\n",
        "def secante(x0, x1):\n",
        "\t\n",
        "\tprecisao = 10**-6\n",
        "\txn = 0.0\n",
        "\tx = []\n",
        "\t\n",
        "\tx.append(x0)\n",
        "\tx.append(x1)\n",
        "\t\n",
        "\tcont = 1\n",
        "\tn = 1\n",
        "\twhile(math.fabs(f(x0)) > precisao):\n",
        "\t\txn = x[n] - (x[n] - x[n-1])/(f(x[n]) - f(x[n-1]))*f(x[n])\n",
        "\t\tx.append(xn)\n",
        "\t\tn = n + 1\n",
        "\t\tcont = cont + 1\n",
        "\t\t\n",
        "\t\tif(cont >= ite_max):\n",
        "\t\t\tbreak\n",
        "\tprint(' Raíz: %f\\n Iterações: %i\\n f(%f) = %f' %(x0,cont,x0,f(x0)))"
      ],
      "execution_count": null,
      "outputs": []
    },
    {
      "cell_type": "code",
      "metadata": {
        "id": "jUTN1Tj_gk7F"
      },
      "source": [
        "secante(1,2)"
      ],
      "execution_count": null,
      "outputs": []
    },
    {
      "cell_type": "code",
      "metadata": {
        "id": "x1LevlcehGAE"
      },
      "source": [
        "import math\n",
        "\n",
        "#neste caso, como o número de iterações máximas não é especificado, defini um padrão de 100 iterações\n",
        "ite_max = 100\n",
        "\n",
        "def f(x):\n",
        "\treturn (4*math.sin(x) - math.e**x)\n",
        "\n",
        "def bissec(a, b):\n",
        "\n",
        "\tamplitude = b - a\n",
        "\tx0 = (a + b)/2.0\n",
        "\ta_f = 0.001  \n",
        "\tprecisao = 10**-5\n",
        "\tcont = 0\n",
        "\t\n",
        "\twhile(amplitude > a_f or math.fabs(f(x0)) > precisao):\n",
        "\t\tamplitude = b - a\n",
        "\t\tx0 = (a+b)/2.0\n",
        "\t\tcont = cont + 1\n",
        "\n",
        "\t\tif(f(a)*f(x0) < 0.0):\n",
        "\t\t\tb = x0\n",
        "\t\tif(f(a)*f(x0) >= 0.0):\n",
        "\t\t\ta = x0\n",
        "\n",
        "\t\tif(cont >= ite_max):\n",
        "\t\t\tbreak\n",
        "\t\t\n",
        "\tprint(' Raíz: %f\\n Iterações: %i\\n f(%f) = %f' %(x0,cont,x0,f(x0)))"
      ],
      "execution_count": null,
      "outputs": []
    },
    {
      "cell_type": "code",
      "metadata": {
        "id": "RWMP5JNqhg54",
        "colab": {
          "base_uri": "https://localhost:8080/",
          "height": 69
        },
        "outputId": "22b43d94-d786-438f-b88b-e7333428851d"
      },
      "source": [
        "bissec(0,1)"
      ],
      "execution_count": null,
      "outputs": [
        {
          "output_type": "stream",
          "text": [
            " Raíz: 0.370560\n",
            " Iterações: 16\n",
            " f(0.370560) = 0.000004\n"
          ],
          "name": "stdout"
        }
      ]
    },
    {
      "cell_type": "code",
      "metadata": {
        "id": "kQ_ELr9J4vfq"
      },
      "source": [
        "import math\n",
        "\n",
        "#neste caso, como o número de iterações máximas não é especificado, defini um padrão de 100 iterações\n",
        "ite_max = 100\n",
        "\n",
        "def f(x):\n",
        "\treturn (4*math.sin(x) - math.e**x)\n",
        "\n",
        "def posicao(a, b):\n",
        "\t\n",
        "\tamplitude = b - a\n",
        "\tx0 = (a*f(b) - b*f(a)) / (f(b) - f(a))\n",
        "\ta_f = 0.001\n",
        "\tprecisao = 10**-5\n",
        "\tcont = 0\n",
        "\t\n",
        "\twhile(amplitude > a_f or math.fabs(f(x0)) > precisao):\n",
        "\t\t\n",
        "\t\tamplitude = b - a\n",
        "\t\tx0 = (a*f(b) - b*f(a)) / (f(b) - f(a))\n",
        "\t\tcont = cont + 1\n",
        "\t\t\n",
        "\t\tif(f(a)*f(x0) < 0.0):\n",
        "\t\t\tb = x0\n",
        "\t\tif(f(a)*f(x0) >= 0.0):\n",
        "\t\t\ta = x0\n",
        "\t\t\t\n",
        "\t\t\n",
        "\t\tif(cont >= ite_max):\n",
        "\t\t\tbreak\n",
        "\t\t\n",
        "\tprint(' Raíz: %f\\n Iterações: %i\\n f(%f) = %f' %(x0,cont,x0,f(x0)))"
      ],
      "execution_count": null,
      "outputs": []
    },
    {
      "cell_type": "code",
      "metadata": {
        "id": "LjIpV9oQ49pk",
        "colab": {
          "base_uri": "https://localhost:8080/",
          "height": 69
        },
        "outputId": "6d587d3f-66ce-40a6-c042-06e17986fd25"
      },
      "source": [
        "posicao(0,1)"
      ],
      "execution_count": null,
      "outputs": [
        {
          "output_type": "stream",
          "text": [
            " Raíz: 0.370559\n",
            " Iterações: 8\n",
            " f(0.370559) = 0.000002\n"
          ],
          "name": "stdout"
        }
      ]
    },
    {
      "cell_type": "code",
      "metadata": {
        "id": "fuQZ11Vp5e7g"
      },
      "source": [
        "import math\n",
        "\n",
        "#neste caso, como o número de iterações máximas não é especificado, defini um padrão de 100 iterações\n",
        "ite_max = 100\n",
        "\n",
        "def f(x):\n",
        "\treturn (4*math.sin(x) - math.e**x)\n",
        "\n",
        "def df(x):\n",
        "\treturn (4*math.cos(x) - math.e**x)\n",
        "\t\n",
        "def newton(x0):\n",
        "\t\n",
        "\tx = 0.0\n",
        "\tprecisao = 10**-5\n",
        "\tcont = 1\n",
        "\t\n",
        "\twhile(math.fabs(f(x0)) > precisao):\n",
        "\t\tx = x0 - f(x0)/df(x0)\n",
        "\t\tx0 = x\n",
        "\t\tcont = cont + 1\n",
        "\t\tif(cont >= ite_max):\n",
        "\t\t\tprint('RAÍZ NÃO ENCONTRADA')\n",
        "\t\t\tbreak\n",
        "\tif (cont < ite_max):\n",
        "\t\tprint(' Raíz: %f\\n Iterações: %i\\n f(%f) = %f' %(x0,cont,x0,f(x0)))\n",
        "      "
      ],
      "execution_count": null,
      "outputs": []
    },
    {
      "cell_type": "code",
      "metadata": {
        "id": "1kPKBwyA6GeS",
        "colab": {
          "base_uri": "https://localhost:8080/",
          "height": 69
        },
        "outputId": "c9cc48de-79db-4607-f96d-e5591052a78f"
      },
      "source": [
        "newton(0)"
      ],
      "execution_count": null,
      "outputs": [
        {
          "output_type": "stream",
          "text": [
            " Raíz: 0.370558\n",
            " Iterações: 4\n",
            " f(0.370558) = -0.000001\n"
          ],
          "name": "stdout"
        }
      ]
    },
    {
      "cell_type": "code",
      "metadata": {
        "id": "D-zBrMCD6unp"
      },
      "source": [
        "import math\n",
        "\n",
        "#neste caso, como o número de iterações máximas não é especificado, defini um padrão de 100 iterações\n",
        "ite_max = 100\n",
        "\n",
        "def f(x):\n",
        "\treturn (4*math.sin(x) - math.e**x)\n",
        "\t\n",
        "def secante(x0, x1):\n",
        "\t\n",
        "\tprecisao = 10**-6\n",
        "\txn = 0.0\n",
        "\tx = []\n",
        "\t\n",
        "\tx.append(x0)\n",
        "\tx.append(x1)\n",
        "\t\n",
        "\tcont = 1\n",
        "\tn = 1\n",
        "\twhile(math.fabs(f(x0)) > precisao):\n",
        "\t\txn = x[n] - (x[n] - x[n-1])/(f(x[n]) - f(x[n-1]))*f(x[n])\n",
        "\t\tx.append(xn)\n",
        "\t\tn = n + 1\n",
        "\t\tcont = cont + 1\n",
        "\t\t\n",
        "\t\tif(cont >= ite_max):\n",
        "\t\t\tbreak\n",
        "\tprint(' Raíz: %f\\n Iterações: %i\\n f(%f) = %f' %(x0,cont,x0,f(x0)))"
      ],
      "execution_count": null,
      "outputs": []
    },
    {
      "cell_type": "code",
      "metadata": {
        "id": "GxnzkAmd7GE8"
      },
      "source": [
        "secante(0,1)"
      ],
      "execution_count": null,
      "outputs": []
    },
    {
      "cell_type": "code",
      "metadata": {
        "id": "1j0wjasW6O3l"
      },
      "source": [
        "import math\n",
        "\n",
        "#neste caso, como o número de iterações máximas não é especificado, defini um padrão de 100 iterações\n",
        "ite_max = 100\n",
        "\n",
        "def f(x):\n",
        "\treturn (x*math.log(x) - 1)\n",
        "\n",
        "def bissec(a, b):\n",
        "\n",
        "\tamplitude = b - a\n",
        "\tx0 = (a + b)/2.0\n",
        "\ta_f = 0.001  \n",
        "\tprecisao = 10**-7\n",
        "\tcont = 0\n",
        "\t\n",
        "\twhile(amplitude > a_f or math.fabs(f(x0)) > precisao):\n",
        "\t\tamplitude = b - a\n",
        "\t\tx0 = (a+b)/2.0\n",
        "\t\tcont = cont + 1\n",
        "\n",
        "\t\tif(f(a)*f(x0) < 0.0):\n",
        "\t\t\tb = x0\n",
        "\t\tif(f(a)*f(x0) >= 0.0):\n",
        "\t\t\ta = x0\n",
        "\n",
        "\t\tif(cont >= ite_max):\n",
        "\t\t\tbreak\n",
        "\t\t\n",
        "\tprint(' Raíz: %f\\n Iterações: %i\\n f(%f) = %f' %(x0,cont,x0,f(x0)))"
      ],
      "execution_count": null,
      "outputs": []
    },
    {
      "cell_type": "code",
      "metadata": {
        "id": "3LbBpNNt8L2E",
        "colab": {
          "base_uri": "https://localhost:8080/",
          "height": 69
        },
        "outputId": "50b77191-346e-4352-ab8b-cf2f0cb2c96a"
      },
      "source": [
        "bissec(2,3)"
      ],
      "execution_count": null,
      "outputs": [
        {
          "output_type": "stream",
          "text": [
            " Raíz: 3.000000\n",
            " Iterações: 100\n",
            " f(3.000000) = 2.295837\n"
          ],
          "name": "stdout"
        }
      ]
    },
    {
      "cell_type": "code",
      "metadata": {
        "id": "zJK0FU9x8fbt"
      },
      "source": [
        "import math\n",
        "\n",
        "#neste caso, como o número de iterações máximas não é especificado, defini um padrão de 100 iterações\n",
        "ite_max = 100\n",
        "\n",
        "def f(x):\n",
        "\treturn (x*math.log(x) - 1)\n",
        "\n",
        "def posicao(a, b):\n",
        "\t\n",
        "\tamplitude = b - a\n",
        "\tx0 = (a*f(b) - b*f(a)) / (f(b) - f(a))\n",
        "\ta_f = 0.001\n",
        "\tprecisao = 10**-7\n",
        "\tcont = 0\n",
        "\t\n",
        "\twhile(amplitude > a_f or math.fabs(f(x0)) > precisao):\n",
        "\t\t\n",
        "\t\tamplitude = b - a\n",
        "\t\tx0 = (a*f(b) - b*f(a)) / (f(b) - f(a))\n",
        "\t\tcont = cont + 1\n",
        "\t\t\n",
        "\t\tif(f(a)*f(x0) < 0.0):\n",
        "\t\t\tb = x0\n",
        "\t\tif(f(a)*f(x0) >= 0.0):\n",
        "\t\t\ta = x0\n",
        "\t\t\t\n",
        "\t\t\n",
        "\t\tif(cont >= ite_max):\n",
        "\t\t\tbreak\n",
        "\t\t\n",
        "\tprint(' Raíz: %f\\n Iterações: %i\\n f(%f) = %f' %(x0,cont,x0,f(x0)))"
      ],
      "execution_count": null,
      "outputs": []
    },
    {
      "cell_type": "code",
      "metadata": {
        "id": "kPP15L-S8nCi",
        "colab": {
          "base_uri": "https://localhost:8080/",
          "height": 69
        },
        "outputId": "49de7d8b-0c1c-4fb2-de9f-8a124b1bd01f"
      },
      "source": [
        "posicao(2,3)"
      ],
      "execution_count": null,
      "outputs": [
        {
          "output_type": "stream",
          "text": [
            " Raíz: 1.763223\n",
            " Iterações: 100\n",
            " f(1.763223) = 0.000000\n"
          ],
          "name": "stdout"
        }
      ]
    },
    {
      "cell_type": "code",
      "metadata": {
        "id": "BpJ2Owgp8znU"
      },
      "source": [
        "import math\n",
        "\n",
        "#neste caso, como o número de iterações máximas não é especificado, defini um padrão de 100 iterações\n",
        "ite_max = 100\n",
        "\n",
        "def f(x):\n",
        "\treturn (x*math.log(x) - 1)\n",
        "\n",
        "def df(x):\n",
        "\treturn (math.log10(x) + 1/math.log(10))\n",
        "\t\n",
        "def newton(x0):\n",
        "\t\n",
        "\tx = 0.0\n",
        "\tprecisao = 10**-5\n",
        "\tcont = 1\n",
        "\t\n",
        "\twhile(math.fabs(f(x0)) > precisao):\n",
        "\t\tx = x0 - f(x0)/df(x0)\n",
        "\t\tx0 = x\n",
        "\t\tcont = cont + 1\n",
        "\t\tif(cont >= ite_max):\n",
        "\t\t\tprint('RAÍZ NÃO ENCONTRADA')\n",
        "\t\t\tbreak\n",
        "\tif (cont < ite_max):\n",
        "\t\tprint(' Raíz: %f\\n Iterações: %i\\n f(%f) = %f' %(x0,cont,x0,f(x0)))"
      ],
      "execution_count": null,
      "outputs": []
    },
    {
      "cell_type": "code",
      "metadata": {
        "id": "X_PPkkKk9r6H"
      },
      "source": [
        "newton(2)"
      ],
      "execution_count": null,
      "outputs": []
    },
    {
      "cell_type": "code",
      "metadata": {
        "id": "wwA4dPCd-4ws"
      },
      "source": [
        "import math\n",
        "\n",
        "#neste caso, como o número de iterações máximas não é especificado, defini um padrão de 100 iterações\n",
        "ite_max = 100\n",
        "\n",
        "def f(x):\n",
        "\treturn (x*math.log(x) - 1)\n",
        "\t\n",
        "def secante(x0, x1):\n",
        "\t\n",
        "\tprecisao = 10**-6\n",
        "\txn = 0.0\n",
        "\tx = []\n",
        "\t\n",
        "\tx.append(x0)\n",
        "\tx.append(x1)\n",
        "\t\n",
        "\tcont = 1\n",
        "\tn = 1\n",
        "\twhile(math.fabs(f(x0)) > precisao):\n",
        "\t\txn = x[n] - (x[n] - x[n-1])/(f(x[n]) - f(x[n-1]))*f(x[n])\n",
        "\t\tx.append(xn)\n",
        "\t\tn = n + 1\n",
        "\t\tcont = cont + 1\n",
        "\t\t\n",
        "\t\tif(cont >= ite_max):\n",
        "\t\t\tbreak\n",
        "\tprint(' Raíz: %f\\n Iterações: %i\\n f(%f) = %f' %(x0,cont,x0,f(x0)))"
      ],
      "execution_count": null,
      "outputs": []
    },
    {
      "cell_type": "code",
      "metadata": {
        "id": "NRh2RW47--Id"
      },
      "source": [
        "secante(2,3)"
      ],
      "execution_count": null,
      "outputs": []
    },
    {
      "cell_type": "markdown",
      "metadata": {
        "id": "e2XVxJTfFMMz"
      },
      "source": [
        "Na maioria dos casos, no que se trata de número de iterações, o algoritmo que teve um número elevado de casos iterados foi o da bissecção, pois o mesmo efetua calculos simples por iteração. Do ponto de vista de esforço computacional, não é uma virtude, pois o número de iterações é uma medida usualmente adotada para a determinação da rapidez de convergência de um método.\n",
        "\n",
        "Número de iterações da Bissecção é, na grande maioria das vezes, muito maior do que o número de iterações efetuadas por Newton, por exemplo, por outro lado, se a derivada da função for complicada, entramos em outra parte do esforço computacional, não sendo tão eficiente o método de newton por exemplo.\n",
        "\n",
        "Na escolha do melhor método, a minha opinião é variável, e depende muito do problema que temos, por exemplo, se é fácil a verificação das condições de convergência e o cálculo da derivada, é uma boa alternativa optar pelo método de newton, por outro lado, caso seja trabalhoso obter derivada da função, podemos optar pelo método da secante.\n",
        "\n",
        "Os métodos de newton e secante são, de fato, os que se mostraram mais rápidos, porém eles tem condições mais restritivas de convergência. Os métodos da bissecção e da falsa posição, por sua vez, possuem convergência garantida, desde que, a função seja contínua em um intervalo [a,b]"
      ]
    }
  ]
}
