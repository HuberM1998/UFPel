{
  "nbformat": 4,
  "nbformat_minor": 0,
  "metadata": {
    "colab": {
      "name": "Relatorio2_MathausHuber.ipynb",
      "provenance": [],
      "include_colab_link": true
    },
    "kernelspec": {
      "name": "python3",
      "display_name": "Python 3"
    }
  },
  "cells": [
    {
      "cell_type": "markdown",
      "metadata": {
        "id": "view-in-github",
        "colab_type": "text"
      },
      "source": [
        "<a href=\"https://colab.research.google.com/github/HuberM1998/UFPel/blob/master/Relatorio2_MathausHuber.ipynb\" target=\"_parent\"><img src=\"https://colab.research.google.com/assets/colab-badge.svg\" alt=\"Open In Colab\"/></a>"
      ]
    },
    {
      "cell_type": "markdown",
      "metadata": {
        "id": "JkwUHNT8YEp1"
      },
      "source": [
        "O método de eliminação gaussiana consiste em aplicar sucessivas operações elementares num sistema linear, para o transformar num sistema de mais fácil resolução.\n",
        "\n",
        "Para fazer a implentação da eliminação gaussiana eu usei os elementos da diagonal principal de A como pivos para zerar os elementos da mesma coluna."
      ]
    },
    {
      "cell_type": "code",
      "metadata": {
        "id": "ntfWKMSqINKY"
      },
      "source": [
        "import numpy as np\n",
        "\n",
        "def resolveTS(A,b): #A Triangular Superior\n",
        "    x = np.zeros(len(A))\n",
        "    for i in range(len(A)-1,-1,-1):\n",
        "        x[i] = (b[i] - (A[i][i+1:]*x[i+1:]).sum())/A[i][i]\n",
        "    return x\n",
        "\n",
        "def resolveTI(A,b): #A Triangular Inferior\n",
        "    x = np.zeros(len(b))\n",
        "    for i in range(len(b)):\n",
        "        x[i] = (b[i] - (A[i][:i]*x[:i]).sum())/A[i][i]\n",
        "    return x\n",
        "\n",
        "def eliminacaoGaussianaSimples(A,b):\n",
        "    A = np.array(A)\n",
        "    b = np.array(b)\n",
        "    Au = np.zeros(A.shape)\n",
        "    Ax = np.concatenate((A,b.reshape(len(b),1)),axis=1)\n",
        "    for i in range(len(Ax)-1):\n",
        "        Ax[i+1:] -= (Ax[i+1:,i]/Ax[i][i]).reshape((len(Au[i+1:]),1))*Ax[i]\n",
        "        \n",
        "    return resolveTS(Ax[:,:len(b)],Ax[:,len(b)])"
      ],
      "execution_count": null,
      "outputs": []
    },
    {
      "cell_type": "code",
      "metadata": {
        "id": "1X40wiplJVK3",
        "colab": {
          "base_uri": "https://localhost:8080/"
        },
        "outputId": "03ffce14-c035-4f14-8fc6-3bd2d9a61da8"
      },
      "source": [
        "eliminacaoGaussianaSimples([[1,2],[1.1,2]],[10,10.4])"
      ],
      "execution_count": null,
      "outputs": [
        {
          "output_type": "execute_result",
          "data": {
            "text/plain": [
              "array([4., 3.])"
            ]
          },
          "metadata": {
            "tags": []
          },
          "execution_count": 44
        }
      ]
    },
    {
      "cell_type": "markdown",
      "metadata": {
        "id": "eMouzZzUYgvc"
      },
      "source": [
        "A fatoração LU é uma forma de fatoração de uma matriz não singular como o produto de uma matriz triangular inferior e uma matriz triangular superior, na maioria das vezes esse método resolve sistemas lineares ou encontra matrizes inversas mais eficientemente.\n",
        "\n",
        "A fatoração LU é mais utilizada quando a mesma matriz de coeficientes $A$ é usada para várias soluções diferentes. Por isto, ela pode ser dividida em dois passos:\n",
        "\n",
        "  Decompor $A$ em $L$ e $U$ onde foi utilizada a função decompoeLU com a entrada da matriz como parâmetro\n",
        "\n",
        "  Dados $L$, $U$ e $b$, retornamos a solução $X$\n"
      ]
    },
    {
      "cell_type": "code",
      "metadata": {
        "id": "SAKyWIQiNMhz"
      },
      "source": [
        "import numpy as np\n",
        "\n",
        "def resolveTS(A,b): #A Triangular Superior\n",
        "    x = np.zeros(len(A))\n",
        "    for i in range(len(A)-1,-1,-1):\n",
        "        x[i] = (b[i] - (A[i][i+1:]*x[i+1:]).sum())/A[i][i]\n",
        "    return x\n",
        "\n",
        "def resolveTI(A,b): #A Triangular Inferior\n",
        "    x = np.zeros(len(b))\n",
        "    for i in range(len(b)):\n",
        "        x[i] = (b[i] - (A[i][:i]*x[:i]).sum())/A[i][i]\n",
        "    return x\n",
        "\n",
        "def decompoeLU(A):\n",
        "    A = np.array(A)\n",
        "    L = np.identity(len(A))\n",
        "    U = A.copy()\n",
        "    for i in range(len(A)-1):\n",
        "        L[i+1:,i] = U[i+1:,i]/U[i][i]\n",
        "        U[i+1:] -= L[i+1:,i].reshape((len(L[i+1:]),1))*U[i]\n",
        "    return L,U \n",
        "\n",
        "def resolveLU(L,U,b):\n",
        "    m = resolveTI(L,b)\n",
        "    r = resolveTS(U,m)\n",
        "    return r\n"
      ],
      "execution_count": null,
      "outputs": []
    },
    {
      "cell_type": "code",
      "metadata": {
        "id": "GQAVPemtZISF",
        "colab": {
          "base_uri": "https://localhost:8080/"
        },
        "outputId": "5c5744d2-d02e-43e0-f4eb-06b7adb71d39"
      },
      "source": [
        "decompoeLU([[1,2],[1.1,2]])\n",
        "resolveLU([[1. , 0. ],  [1.1, 1. ]], [[ 1. ,  2. ], [ 0. , -0.2]], [10,10.4])"
      ],
      "execution_count": null,
      "outputs": [
        {
          "output_type": "execute_result",
          "data": {
            "text/plain": [
              "array([4., 3.])"
            ]
          },
          "metadata": {
            "tags": []
          },
          "execution_count": 48
        }
      ]
    },
    {
      "cell_type": "markdown",
      "metadata": {
        "id": "iA-nGr0vfU4l"
      },
      "source": [
        "O método de Gauss-Seidel consiste em fazer iterações para resolver sistemas lineares, dessa forma, ele obedece alguns critérios de convergência como o critério de Sassenfeld, critério das linhas e o critério da diagonal principal dominante.\n",
        "\n",
        "Por ser um método iterativo ele preserva a estrutura esparsa da matriz e, portanto, efetuando menos operações e resultando no menor consumo de espaço na memória.\n",
        "\n",
        "Na questão 4 da lista de exercícios 3, eu utilizo especificamente o critério de Sassenfeld para explicar melhor a convergência dos sistemas S1 e S2, onde se o critério de Sassenfield não for satisfeito a convergência pode ser bastante lenta."
      ]
    },
    {
      "cell_type": "code",
      "metadata": {
        "id": "m-6MtpFNhHKM"
      },
      "source": [
        "def gaussSeidel(A,b,vetorSolucao,iteracoes):\n",
        "  iteracao = 0\n",
        "  while iteracao < iteracoes:\n",
        "    for i in range(len(A)):\n",
        "      x = b[i]\n",
        "      for j in range(len(A)):\n",
        "        if i != j:\n",
        "          x -= A[i][j]*vetorSolucao[j]\n",
        "      x /= A[i][i]\n",
        "      vetorSolucao[i] = x\n",
        "      iteracao += 1\n",
        "\n",
        "  print(vetorSolucao)"
      ],
      "execution_count": null,
      "outputs": []
    },
    {
      "cell_type": "code",
      "metadata": {
        "id": "F4FwSeJrj79v"
      },
      "source": [
        "gaussSeidel([[1,2],[1.1,2]],[10,10.4],[0,0,0], 10)"
      ],
      "execution_count": null,
      "outputs": []
    },
    {
      "cell_type": "markdown",
      "metadata": {
        "id": "F63yhp-NpG8X"
      },
      "source": [
        "# **Questão 1** \n",
        " Considere a resolução direta de SELAs.\n",
        " a) Resolva pelo método de Eliminação de Gauss \n",
        "\n",
        "\n",
        "*   x1 + 2x2 = 10\n",
        "*   1,1x1 + 2x2 = 10,4\n",
        "\n"
      ]
    },
    {
      "cell_type": "code",
      "metadata": {
        "id": "Q0SHGP2uqBm0"
      },
      "source": [
        "import numpy as np\n",
        "\n",
        "def resolveTS(A,b): #A Triangular Superior\n",
        "    x = np.zeros(len(A))\n",
        "    for i in range(len(A)-1,-1,-1):\n",
        "        x[i] = (b[i] - (A[i][i+1:]*x[i+1:]).sum())/A[i][i]\n",
        "    for j in range(len(x)):\n",
        "      print(\"x\"+str(j)+\"= \"+str(x[j]))\n",
        "\n",
        "def eliminacaoGaussianaSimples(A,b):\n",
        "    A = np.array(A)\n",
        "    b = np.array(b)\n",
        "    Au = np.zeros(A.shape)\n",
        "    Ax = np.concatenate((A,b.reshape(len(b),1)),axis=1)\n",
        "    for i in range(len(Ax)-1):\n",
        "        Ax[i+1:] -= (Ax[i+1:,i]/Ax[i][i]).reshape((len(Au[i+1:]),1))*Ax[i]\n",
        "        \n",
        "    return resolveTS(Ax[:,:len(b)],Ax[:,len(b)])"
      ],
      "execution_count": null,
      "outputs": []
    },
    {
      "cell_type": "code",
      "metadata": {
        "id": "Y6nnodcFqLq3",
        "colab": {
          "base_uri": "https://localhost:8080/"
        },
        "outputId": "2a7f3264-0d76-4cba-d4f1-8ddeb0a80b1f"
      },
      "source": [
        "eliminacaoGaussianaSimples([[1,2],[1.1,2]],[10,10.4])"
      ],
      "execution_count": null,
      "outputs": [
        {
          "output_type": "stream",
          "text": [
            "x0= 4.000000000000009\n",
            "x1= 2.9999999999999956\n"
          ],
          "name": "stdout"
        }
      ]
    },
    {
      "cell_type": "markdown",
      "metadata": {
        "id": "-uD-k5x5qT94"
      },
      "source": [
        "(b) Resolva pelo método de Eliminação de Gauss o sistema perturbado \n",
        "\n",
        "\n",
        "*   x1 + 2x2 = 10\n",
        "*   1,1x1 + 2x2 = 10,8\n",
        "\n"
      ]
    },
    {
      "cell_type": "code",
      "metadata": {
        "id": "NQk2OwZRquCQ"
      },
      "source": [
        "import numpy as np\n",
        "\n",
        "def resolveTS(A,b): #A Triangular Superior\n",
        "    x = np.zeros(len(A))\n",
        "    for i in range(len(A)-1,-1,-1):\n",
        "        x[i] = (b[i] - (A[i][i+1:]*x[i+1:]).sum())/A[i][i]\n",
        "    for j in range(len(x)):\n",
        "      print(\"x\"+str(j)+\"= \"+str(x[j]))\n",
        "\n",
        "def eliminacaoGaussianaSimples(A,b):\n",
        "    A = np.array(A)\n",
        "    b = np.array(b)\n",
        "    Au = np.zeros(A.shape)\n",
        "    Ax = np.concatenate((A,b.reshape(len(b),1)),axis=1)\n",
        "    for i in range(len(Ax)-1):\n",
        "        Ax[i+1:] -= (Ax[i+1:,i]/Ax[i][i]).reshape((len(Au[i+1:]),1))*Ax[i]\n",
        "        \n",
        "    return resolveTS(Ax[:,:len(b)],Ax[:,len(b)])"
      ],
      "execution_count": null,
      "outputs": []
    },
    {
      "cell_type": "code",
      "metadata": {
        "id": "dGVLyOD_qx-b",
        "colab": {
          "base_uri": "https://localhost:8080/"
        },
        "outputId": "14513b9b-526c-44af-d1b6-f3b08bb1a062"
      },
      "source": [
        "eliminacaoGaussianaSimples([[1,2],[1.1,2]],[10,10.8])"
      ],
      "execution_count": null,
      "outputs": [
        {
          "output_type": "stream",
          "text": [
            "x0= 8.000000000000009\n",
            "x1= 0.9999999999999956\n"
          ],
          "name": "stdout"
        }
      ]
    },
    {
      "cell_type": "markdown",
      "metadata": {
        "id": "vKCk5mkpspyT"
      },
      "source": [
        "(c) Compare a nova solução encontrada para o SELA (⋆) com a solução do SELA (∗)."
      ]
    },
    {
      "cell_type": "markdown",
      "metadata": {
        "id": "y9B_jZI96fQp"
      },
      "source": [
        "A solução encontrada para o SELA [1,2],[1.1,2] utilizando a eliminação gaussiana simples, sem pivotamento, onde obtemos os resultados x = [4.000, 2.999], sendo o vetor de termos independentes = [10,10.4]. Por outro lado, a solução do SELA com o vetor de termos independentes = [10, 10.8], onde obtemos resultados = [8.000, 0.999]\n",
        "\n",
        "\n"
      ]
    },
    {
      "cell_type": "markdown",
      "metadata": {
        "id": "bL0Wf2hbsylK"
      },
      "source": [
        "(d) Faça a representação geométrica das equações do SELA (∗)."
      ]
    },
    {
      "cell_type": "code",
      "metadata": {
        "id": "9dUEIzPBub4e",
        "colab": {
          "base_uri": "https://localhost:8080/",
          "height": 265
        },
        "outputId": "311e8034-9002-4eb3-b760-9463dcded9b2"
      },
      "source": [
        "import matplotlib.pyplot as plt\n",
        "A = plt.plot([1,2],[1.1,2])\n",
        "B = plt.plot([1,2],[1.1,2])\n",
        "plt.show(A,B)"
      ],
      "execution_count": null,
      "outputs": [
        {
          "output_type": "display_data",
          "data": {
            "image/png": "[encoded data removed]",
            "text/plain": [
              "<Figure size 432x288 with 1 Axes>"
            ]
          },
          "metadata": {
            "tags": [],
            "needs_background": "light"
          }
        }
      ]
    },
    {
      "cell_type": "markdown",
      "metadata": {
        "id": "EWKngrFw0eOV"
      },
      "source": [
        "# Questão 2 \n",
        "Seja o sistema\n",
        "\n",
        "* 8,7x1 + 3,0x2 + 9,3x3 + 11,0x4 = 16,4\n",
        "* 24,5x1 − 8,8x2 + 11,5x3 − 45,1x4 = −49,7\n",
        "* 52,3x1 − 84,0x2 − 23,5x3 + 11,4x4 = −80,8\n",
        "* 21,0x1 − 81,0x2 − 13,2x3 + 21,5x4 = −106,3\n",
        "\n",
        "(a) Mostre que o SELA tem solução aproximada x0= (0, 97;1, 98;−0, 97;1, 00)"
      ]
    },
    {
      "cell_type": "code",
      "metadata": {
        "id": "95gLIpYp9mtg"
      },
      "source": [
        "import numpy as np\n",
        "\n",
        "def resolveTS(A,b): #A Triangular Superior\n",
        "    x = np.zeros(len(A))\n",
        "    for i in range(len(A)-1,-1,-1):\n",
        "        x[i] = (b[i] - (A[i][i+1:]*x[i+1:]).sum())/A[i][i]\n",
        "    for j in range(len(x)):\n",
        "      print(\"x\"+str(j)+\"= \"+str(x[j]))\n",
        "\n",
        "def eliminacaoGaussianaSimples(A,b):\n",
        "    A = np.array(A)\n",
        "    b = np.array(b)\n",
        "    Au = np.zeros(A.shape)\n",
        "    Ax = np.concatenate((A,b.reshape(len(b),1)),axis=1)\n",
        "    for i in range(len(Ax)-1):\n",
        "        Ax[i+1:] -= (Ax[i+1:,i]/Ax[i][i]).reshape((len(Au[i+1:]),1))*Ax[i]\n",
        "        \n",
        "    return resolveTS(Ax[:,:len(b)],Ax[:,len(b)])"
      ],
      "execution_count": null,
      "outputs": []
    },
    {
      "cell_type": "code",
      "metadata": {
        "id": "3pWUSIjr9w1w",
        "colab": {
          "base_uri": "https://localhost:8080/"
        },
        "outputId": "d93270ce-d34b-4ee7-a7a0-bd1dff2a445b"
      },
      "source": [
        "eliminacaoGaussianaSimples([[8.7,3.0,9.3,11.0],[24.5,-8.8,11.5,-45.1],[52.3,-84.0,-23.5,11.4],[21.0,-81.0,-13.2,21.5]],[16.4,-49.7,-80.8,-106.3])"
      ],
      "execution_count": null,
      "outputs": [
        {
          "output_type": "stream",
          "text": [
            "x0= 0.9999999999999996\n",
            "x1= 1.9999999999999991\n",
            "x2= -1.0\n",
            "x3= 1.0000000000000004\n"
          ],
          "name": "stdout"
        }
      ]
    },
    {
      "cell_type": "markdown",
      "metadata": {
        "id": "7oj2elEwIkTC"
      },
      "source": [
        "Utilizando o método de Eliminação Gaussiana para mostrar que o sistema tem solução aproximada de x0 = (0,97;1,98;-0,97;1,00) "
      ]
    },
    {
      "cell_type": "markdown",
      "metadata": {
        "id": "5wSyQ58g3BvM"
      },
      "source": [
        "(b) Refina esta solução, retendo durante os cálculos duas casas decimais.\n",
        "\n",
        "Calcule r=b−b0 =b−Ax0;\n",
        "\n",
        "Determine x1 em Ax1 = r via método de Eliminação de Gauss com precisão dupla mas retendo duas casas decimais; Apresente sua solução refinada: X = x1 + x0."
      ]
    },
    {
      "cell_type": "code",
      "metadata": {
        "id": "jKxkQgcnYJz8"
      },
      "source": [
        "import numpy as np\n",
        "\n",
        "def refinaSolucao(A, b):\n",
        "  x0 = [0.97, 1.98, -0.97, 1.0]\n",
        "  r0 = b - np.matmul(A,x0)\n",
        "  x1 = eliminacaoGaussianaSimples(A,r0)\n",
        "  X = x1 + x0\n",
        "  for j in range(len(X)):\n",
        "    print((X[j]))\n",
        "  \n",
        "def resolveTS(A,b): #A Triangular Superior\n",
        "    x = np.zeros(len(A))\n",
        "    for i in range(len(A)-1,-1,-1):\n",
        "        x[i] = (b[i] - (A[i][i+1:]*x[i+1:]).sum())/A[i][i]\n",
        "    return x\n",
        "\n",
        "def eliminacaoGaussianaSimples(A,b):\n",
        "    A = np.array(A)\n",
        "    b = np.array(b)\n",
        "    Au = np.zeros(A.shape)\n",
        "    Ax = np.concatenate((A,b.reshape(len(b),1)),axis=1)\n",
        "    for i in range(len(Ax)-1):\n",
        "        Ax[i+1:] -= (Ax[i+1:,i]/Ax[i][i]).reshape((len(Au[i+1:]),1))*Ax[i]\n",
        "        \n",
        "    return resolveTS(Ax[:,:len(b)],Ax[:,len(b)])"
      ],
      "execution_count": null,
      "outputs": []
    },
    {
      "cell_type": "code",
      "metadata": {
        "id": "tK0u415raR67",
        "colab": {
          "base_uri": "https://localhost:8080/"
        },
        "outputId": "ec95275a-0c45-4fe5-c9ef-98eefbb7dfbf"
      },
      "source": [
        "refinaSolucao([[8.7,3.0,9.3,11.0],[24.5,-8.8,11.5,-45.1],[52.3,-84.0,-23.5,11.4],[21.0,-81.0,-13.2,21.5]],[16.4,-49.7,-80.8,-106.3])"
      ],
      "execution_count": null,
      "outputs": [
        {
          "output_type": "stream",
          "text": [
            "1.0\n",
            "2.0\n",
            "-1.0\n",
            "1.0\n"
          ],
          "name": "stdout"
        }
      ]
    },
    {
      "cell_type": "markdown",
      "metadata": {
        "id": "xYtyxFuNMkd4"
      },
      "source": [
        "Nesse caso, criei uma função que refina a solução aproximada, chamada de refinaSolucao, onde recebemos por parametro a matriz A, e o vetor de termos independentes b, onde x0 é que recebe os valores aproximados dados na questão a, r0 é o nosso resíduo, ou seja quanta falta para a solução ser exata, para isso calculamos a correção que chamamos de x1 através da função de eliminação gaussiana já conhecida, passando por parametro a nossa matriz A, e o residuo r0. Sendo X a nossa solução exata, x0 a solução aproximada, e x1 a correção, para encontrarmos o X somamos a solução aproximada com a correção que é justamente o resultado do resíduo, que neste caso é a solução com precisão maior."
      ]
    },
    {
      "cell_type": "markdown",
      "metadata": {
        "id": "SNP_Tyhu3P2Z"
      },
      "source": [
        "# Questão 3\n",
        "Resolva o sistema por Fatoração LU usando Doolittle (com pivotamento parcial) o SELA representado pela expressão matricial aplicando F (10, 3, e1, e2):\n",
        "\n",
        "\n",
        "\n",
        "*   2 1 2 | 1\n",
        "*   1 2 3 | 0\n",
        "*   4 1 2 | 3 \n",
        "\n"
      ]
    },
    {
      "cell_type": "code",
      "metadata": {
        "id": "Wt4tYKi94plL"
      },
      "source": [
        "import numpy as np\n",
        "\n",
        "def resolveTS(A,b): #A Triangular Superior\n",
        "    x = np.zeros(len(A))\n",
        "    for i in range(len(A)-1,-1,-1):\n",
        "        x[i] = (b[i] - (A[i][i+1:]*x[i+1:]).sum())/A[i][i]\n",
        "    return x\n",
        "\n",
        "def resolveTI(A,b): #A Triangular Inferior\n",
        "    x = np.zeros(len(b))\n",
        "    for i in range(len(b)):\n",
        "        x[i] = (b[i] - (A[i][:i]*x[:i]).sum())/A[i][i]\n",
        "    return x\n",
        "\n",
        "def verificaPivo(A):\n",
        "    A = np.array(A)\n",
        "    pode=True\n",
        "    for i in range(len(A)):\n",
        "        if np.linalg.det(A[:i,:i]) == 0:\n",
        "            pode=False\n",
        "    return pode \n",
        "\n",
        "def LUpivpar(A, tol=10e-3):\n",
        "    A = np.array(A)\n",
        "    bf = A.shape[0]\n",
        "    L = np.zeros(A.shape)\n",
        "    U = A.copy()\n",
        "    P = np.identity(bf)\n",
        "    for i in range(bf):\n",
        "        ch = np.argmax(np.abs(U[i:,i])) + i\n",
        "        if abs(A[ch,i]) < tol:\n",
        "          error.err('A matriz é singular') \n",
        "        U[[i,ch]] = U[[ch,i]]\n",
        "        L[[i,ch]] = L[[ch,i]]\n",
        "        P[[i,ch]] = P[[ch,i]]\n",
        "        L[i][i]=1\n",
        "        for j in range(i+1,bf):\n",
        "            ax = U[j][i]/U[i][i]\n",
        "            L[j][i] = ax\n",
        "            #Aqui houve um erro, onde eu acabei quebrando a cabeça e tive que aplicar uma \"gambiarra\", onde parece que os modelos de estatísticas ARIMA geram um erro porque não converte explicitamente int em float. Se eu tentar converter dados em float manualmente dessa forma, os modelos de estatísticas funcionarão bem.\n",
        "            U = U.astype('float64')\n",
        "            U[j] -= U[i]*ax\n",
        "    return L,U,P\n",
        "\n",
        "def resolveLUpar(L,U,P,b):\n",
        "    m = resolveTI(L,np.dot(P,b))\n",
        "    r = resolveTS(U,m)\n",
        "    for j in range(len(r)):\n",
        "      r[j] = int(r[j] * 10**3)/10**3\n",
        "      print(\"x\"+str(j)+\"= \"+str(r[j]))"
      ],
      "execution_count": null,
      "outputs": []
    },
    {
      "cell_type": "code",
      "metadata": {
        "id": "eglzxLO2474i",
        "colab": {
          "base_uri": "https://localhost:8080/"
        },
        "outputId": "d1cb33d1-5067-4eb4-deb9-22326d915c25"
      },
      "source": [
        "verificaPivo([[2,1,2],[1,2,3],[4,1,2]])\n",
        "LUpivpar([[2,1,2],[1,2,3],[4,1,2]])\n",
        "resolveLUpar([[1, 0, 0],[0.25, 1, 0],[0.5, 0.28571429, 1]],\n",
        "             [[4, 1, 2],[0, 1.75, 2.5],[0, 0, 0.28571429]],\n",
        "             [[0, 0, 1],[0, 1, 0],[1, 0, 0]],\n",
        "             [1,0,3])"
      ],
      "execution_count": null,
      "outputs": [
        {
          "output_type": "stream",
          "text": [
            "x0= 0.999\n",
            "x1= 0.999\n",
            "x2= -0.999\n"
          ],
          "name": "stdout"
        }
      ]
    },
    {
      "cell_type": "markdown",
      "metadata": {
        "id": "8OdW-IxW86wX"
      },
      "source": [
        "Sistemas onde o determinante de uma das submatrizes principais ($A_{1x1},A_{2x2},A_{3x3}...$) é igual a $0$ não podem ser resolvidos com a decomposição LU simples. Nestes casos, deve-se utilizar a pivotação parcial, onde o pivô é escolhido da linha com o maior elemento em módulo.\n",
        "\n",
        "Contudo, é importante guardar as trocas de linha que foram efetuadas na matriz de permutações $P$. Esta matriz é uma matriz identidade com as linhas trocadas junto com a pivotação. Por exemplo, se na primeira coluna o maior elemento está na linha três, este será o primeiro pivô (a linha 1 será trocada com a 3). Neste caso, na matriz $P$ também se troca estas linhas. No fim do processo:\n",
        "\n",
        "$PAx = Pb$\n",
        "\n",
        "$LUx=Pb$\n",
        "\n",
        "Então basta resolver trocando as linhas de b de através da multiplicação por P\n",
        "\n",
        "Também foi implementado uma função chamada de verificaPivo, onde testamos a utilização da fatoração LU com pivotação parcial."
      ]
    },
    {
      "cell_type": "markdown",
      "metadata": {
        "id": "6XiFaevM44oK"
      },
      "source": [
        "# Questão 4\n",
        "\n",
        "Dados os SELAs:\n",
        "\n",
        "\n",
        "S1 =\n",
        "*   11x1 + 13x2 = 286\n",
        "*   11x1 - 9x2 = 99\n",
        "\n",
        "S2 =\n",
        "*   11x1 - 9x2 = 99\n",
        "*   11x1 + 13x2 = 286 \n",
        "\n",
        "(a) Mostre que na resolução do sistema pelo método de iterativo de Gauss-Seidel a convergência depende da ordem das equações."
      ]
    },
    {
      "cell_type": "code",
      "metadata": {
        "id": "JLEU2HAK-TqC"
      },
      "source": [
        "def gaussSeidel(A,b,vetorSolucao,iteracoes):\n",
        "  iteracao = 0\n",
        "  while iteracao < iteracoes:\n",
        "    for i in range(len(A)):\n",
        "      x = b[i]\n",
        "      for j in range(len(A)):\n",
        "        if i != j:\n",
        "          x -= A[i][j]*vetorSolucao[j]\n",
        "      x /= A[i][i]\n",
        "      vetorSolucao[i] = x\n",
        "      iteracao += 1\n",
        "\n",
        "  print(vetorSolucao)"
      ],
      "execution_count": null,
      "outputs": []
    },
    {
      "cell_type": "code",
      "metadata": {
        "id": "cpFaY9Gq-WXW",
        "colab": {
          "base_uri": "https://localhost:8080/"
        },
        "outputId": "0d97b2a5-64d3-4807-aef3-e7e57fb6caee"
      },
      "source": [
        "gaussSeidel([[11,13],[11,-9]],[286,99],[0,0],100)\n",
        "gaussSeidel([[11,-9],[11,13]],[99,286],[0,0],100)"
      ],
      "execution_count": null,
      "outputs": [
        {
          "output_type": "stream",
          "text": [
            "[-671909657.0626988, -821222925.1877431]\n",
            "[15.9545455585201, 8.499999912021453]\n"
          ],
          "name": "stdout"
        }
      ]
    },
    {
      "cell_type": "markdown",
      "metadata": {
        "id": "xgAbQBM95xnx"
      },
      "source": [
        "(b) Identifique qual dos sistemas está representado nos gráficos (a) e (b) abaixo, partindo da origem (0, 0). Justifique porque isso ocorre."
      ]
    },
    {
      "cell_type": "markdown",
      "metadata": {
        "id": "IAOFzYr37BPC"
      },
      "source": [
        "No método de gauss Seidel por ser um método iterativo ele tem um critério de convergência, em geral o método converge se: O critério das linhas for atendido, ou, se a matriz for estritamente diagonal dominante, ou, se o critério de Sassenfeld for atendido. \n",
        "\n",
        "O que temos na questão 4, simplesmente olhando o gráfico do sistema 1 e do sistema 2, notamos que são dois sistemas com solução única, onde no primeiro o método diverge, e no segundo o método converge. Na célula abaixo eu implementei o código do critério de sassenfeld para mostrar melhor como o sistema 1 diverge, e o sistema 2 converge.\n",
        "\n",
        "O sistema 1 (\"S1\") está representado no gráfico b, pois está cada vez se afastando mais do ponto, dessa forma, divergindo, a cada iteração se afastando mais da intersecção entre as duas retas, onde em 100 iterações já temos um número muito afastado.\n",
        "\n",
        "O sistema 2 (\"S2\") está representado no gráfico a, pois está cada vez mais chegando perto do ponto, dessa forma, convergindo, a cada iteração, se aproximando mais da solução."
      ]
    },
    {
      "cell_type": "code",
      "metadata": {
        "id": "4lfXCaW9WY_3"
      },
      "source": [
        "import math\n",
        "\n",
        "def criterioSassenfeld(A):\n",
        "  coeficientes = []\n",
        "  for i in range(len(A)):\n",
        "    b = 0\n",
        "    for j in range(len(A)):\n",
        "      if i!= j and i == 0:\n",
        "        b += A[i][j]\n",
        "      elif i!= j and i != 0:\n",
        "        b+=A[i][j]*coeficientes[j]\n",
        "    b/= A[i][i]\n",
        "    coeficientes.append(b)\n",
        "\n",
        "  maiorCoeficiente = max(coeficientes)\n",
        "  if maiorCoeficiente < 1:\n",
        "    print(\"O método de Gauss-Seidel irá convergir\")\n",
        "  else:\n",
        "    print(\"Não se tem certeza sobre a convergência do método de Gauss-Seidel para o sistema dado.\")\n",
        "      "
      ],
      "execution_count": null,
      "outputs": []
    },
    {
      "cell_type": "code",
      "metadata": {
        "id": "NB_ykiz6XwNJ",
        "colab": {
          "base_uri": "https://localhost:8080/",
          "height": 217
        },
        "outputId": "c9e010d0-f32c-409e-bc0b-83ebf9550fa5"
      },
      "source": [
        "#SISTEMA S1\n",
        "criterioSassenfeld([[11,13],[11,-9]])\n",
        "#SISTEMA S2\n",
        "criterioSassenfeld([[11,-9],[11,13]])"
      ],
      "execution_count": null,
      "outputs": [
        {
          "output_type": "error",
          "ename": "NameError",
          "evalue": "ignored",
          "traceback": [
            "\u001b[0;31m---------------------------------------------------------------------------\u001b[0m",
            "\u001b[0;31mNameError\u001b[0m                                 Traceback (most recent call last)",
            "\u001b[0;32m<ipython-input-1-efdfe2752601>\u001b[0m in \u001b[0;36m<module>\u001b[0;34m()\u001b[0m\n\u001b[1;32m      1\u001b[0m \u001b[0;31m#SISTEMA S1\u001b[0m\u001b[0;34m\u001b[0m\u001b[0;34m\u001b[0m\u001b[0;34m\u001b[0m\u001b[0m\n\u001b[0;32m----> 2\u001b[0;31m \u001b[0mcriterioSassenfeld\u001b[0m\u001b[0;34m(\u001b[0m\u001b[0;34m[\u001b[0m\u001b[0;34m[\u001b[0m\u001b[0;36m11\u001b[0m\u001b[0;34m,\u001b[0m\u001b[0;36m13\u001b[0m\u001b[0;34m]\u001b[0m\u001b[0;34m,\u001b[0m\u001b[0;34m[\u001b[0m\u001b[0;36m11\u001b[0m\u001b[0;34m,\u001b[0m\u001b[0;34m-\u001b[0m\u001b[0;36m9\u001b[0m\u001b[0;34m]\u001b[0m\u001b[0;34m]\u001b[0m\u001b[0;34m)\u001b[0m\u001b[0;34m\u001b[0m\u001b[0;34m\u001b[0m\u001b[0m\n\u001b[0m\u001b[1;32m      3\u001b[0m \u001b[0;31m#SISTEMA S2\u001b[0m\u001b[0;34m\u001b[0m\u001b[0;34m\u001b[0m\u001b[0;34m\u001b[0m\u001b[0m\n\u001b[1;32m      4\u001b[0m \u001b[0mcriterioSassenfeld\u001b[0m\u001b[0;34m(\u001b[0m\u001b[0;34m[\u001b[0m\u001b[0;34m[\u001b[0m\u001b[0;36m11\u001b[0m\u001b[0;34m,\u001b[0m\u001b[0;34m-\u001b[0m\u001b[0;36m9\u001b[0m\u001b[0;34m]\u001b[0m\u001b[0;34m,\u001b[0m\u001b[0;34m[\u001b[0m\u001b[0;36m11\u001b[0m\u001b[0;34m,\u001b[0m\u001b[0;36m13\u001b[0m\u001b[0;34m]\u001b[0m\u001b[0;34m]\u001b[0m\u001b[0;34m)\u001b[0m\u001b[0;34m\u001b[0m\u001b[0;34m\u001b[0m\u001b[0m\n",
            "\u001b[0;31mNameError\u001b[0m: name 'criterioSassenfeld' is not defined"
          ]
        }
      ]
    }
  ]
}